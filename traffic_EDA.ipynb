{
  "nbformat": 4,
  "nbformat_minor": 0,
  "metadata": {
    "colab": {
      "provenance": [],
      "authorship_tag": "ABX9TyM4fxXFlSbWFNf0ZM7cVMgl",
      "include_colab_link": true
    },
    "kernelspec": {
      "name": "python3",
      "display_name": "Python 3"
    },
    "language_info": {
      "name": "python"
    }
  },
  "cells": [
    {
      "cell_type": "markdown",
      "metadata": {
        "id": "view-in-github",
        "colab_type": "text"
      },
      "source": [
        "<a href=\"https://colab.research.google.com/github/Hannah1011/seoul_data/blob/main/traffic_EDA.ipynb\" target=\"_parent\"><img src=\"https://colab.research.google.com/assets/colab-badge.svg\" alt=\"Open In Colab\"/></a>"
      ]
    },
    {
      "cell_type": "markdown",
      "source": [
        "## 1. Drive랑 연동"
      ],
      "metadata": {
        "id": "3GOGkH4VUEI4"
      }
    },
    {
      "cell_type": "code",
      "source": [
        "from google.colab import drive\n",
        "drive.mount('/content/drive/')"
      ],
      "metadata": {
        "colab": {
          "base_uri": "https://localhost:8080/"
        },
        "id": "gfY7fFzhUBzM",
        "outputId": "e02afa78-6f47-4897-ae95-3c87b24edb65"
      },
      "execution_count": 1,
      "outputs": [
        {
          "output_type": "stream",
          "name": "stdout",
          "text": [
            "Mounted at /content/drive/\n"
          ]
        }
      ]
    },
    {
      "cell_type": "code",
      "source": [
        "# 필요한 라이브러리 import\n",
        "import pandas as pd\n",
        "from sklearn.preprocessing import MinMaxScaler\n",
        "import numpy as np\n",
        "import matplotlib.pyplot as plt\n",
        "import seaborn as sns\n"
      ],
      "metadata": {
        "id": "iNWurMuaYuTU"
      },
      "execution_count": 2,
      "outputs": []
    },
    {
      "cell_type": "markdown",
      "source": [
        "## 2. CrossWalk 전처리"
      ],
      "metadata": {
        "id": "tW-iiPfDUgJC"
      }
    },
    {
      "cell_type": "code",
      "source": [
        "# 엑셀 파일을 불러오기\n",
        "file_path = '/content/drive/MyDrive/seoul_data/서울시 교통안전시설물 횡단보도 정보 (1).xlsx'\n",
        "\n",
        "# 첫 번째 시트와 두 번째 시트를 불러오기\n",
        "df1 = pd.read_excel(file_path, sheet_name=0)  # 첫 번째 시트\n",
        "df2 = pd.read_excel(file_path, sheet_name='Sheet1')  # 두 번째 시트\n",
        "\n",
        "# 두 번째 시트의 구코드와 동코드를 기준으로 동이름을 첫 번째 시트에 추가\n",
        "df1['동이름'] = df1.apply(\n",
        "    lambda row: df2[(df2['구코드'] == row['구코드']) & (df2['동코드'] == row['동코드'])]['동이름'].values[0]\n",
        "    if not df2[(df2['구코드'] == row['구코드']) & (df2['동코드'] == row['동코드'])].empty else None, axis=1\n",
        ")\n",
        "\n",
        "# 구이름이 '종로구'이고 동이름이 '세종로'인 행의 구코드와 동코드 찾기\n",
        "filtered_row = df1[(df1['구이름'] == '종로구') & (df1['동이름'] == '세종로')]\n",
        "if not filtered_row.empty:\n",
        "    gu_code = filtered_row['구코드'].values[0]\n",
        "    dong_code = filtered_row['동코드'].values[0]\n",
        "    print(f\"종로구 세종로의 구코드: {gu_code}, 동코드: {dong_code}\")\n",
        "else:\n",
        "    print(\"종로구 세종로의 행을 찾을 수 없습니다.\")\n"
      ],
      "metadata": {
        "colab": {
          "base_uri": "https://localhost:8080/"
        },
        "id": "QvQBviWcyXQR",
        "outputId": "78a1a3ac-3bb7-42f9-c690-8460173887fa"
      },
      "execution_count": 3,
      "outputs": [
        {
          "output_type": "stream",
          "name": "stdout",
          "text": [
            "종로구 세종로의 구코드: 110.0, 동코드: 11900.0\n"
          ]
        }
      ]
    },
    {
      "cell_type": "code",
      "source": [
        "# 첫 번째 시트만 csv 파일로 저장\n",
        "df1.to_csv('/content/drive/MyDrive/seoul_data/crosswalk.csv', index=False)\n",
        "\n",
        "# 각 열마다 na 값이 몇 개인지 계산\n",
        "na_counts = df1.isna().sum()\n",
        "\n",
        "# na 값 개수 출력\n",
        "print(na_counts)"
      ],
      "metadata": {
        "colab": {
          "base_uri": "https://localhost:8080/"
        },
        "id": "mW_Q4gQcy6zM",
        "outputId": "76cca4bc-4545-4326-d560-c84dc0b52e39"
      },
      "execution_count": 4,
      "outputs": [
        {
          "output_type": "stream",
          "name": "stdout",
          "text": [
            "상태              8\n",
            "횡단보도종류코드        9\n",
            "구코드           727\n",
            "구이름           727\n",
            "동코드           302\n",
            "동이름          1854\n",
            "도로구분         1494\n",
            "공사형태        12670\n",
            "dtype: int64\n"
          ]
        }
      ]
    },
    {
      "cell_type": "code",
      "source": [
        "# 1. '상태'가 NA인 행 제거\n",
        "df_cleaned = df1.dropna(subset=['상태'])\n",
        "\n",
        "# 2. '구코드'가 NA인 행 출력\n",
        "gu_na_rows = df_cleaned[df_cleaned['구코드'].isna()]\n",
        "print(\"구코드가 NA인 행들:\")\n",
        "print(gu_na_rows)"
      ],
      "metadata": {
        "colab": {
          "base_uri": "https://localhost:8080/"
        },
        "id": "o43f0xi5z9cw",
        "outputId": "b4b0501a-3039-45d6-b472-8328b8feda85"
      },
      "execution_count": 6,
      "outputs": [
        {
          "output_type": "stream",
          "name": "stdout",
          "text": [
            "구코드가 NA인 행들:\n",
            "         상태  횡단보도종류코드  구코드  구이름  동코드   동이름  도로구분 공사형태\n",
            "516     1.0       2.0  NaN  NaN  NaN  None   2.0  004\n",
            "547     1.0       2.0  NaN  NaN  0.0  None   2.0  NaN\n",
            "548     1.0       2.0  NaN  NaN  NaN  None   2.0  004\n",
            "549     1.0       2.0  NaN  NaN  0.0  None   2.0  NaN\n",
            "550     1.0       2.0  NaN  NaN  NaN  None   2.0  004\n",
            "...     ...       ...  ...  ...  ...   ...   ...  ...\n",
            "121242  1.0       1.0  NaN  NaN  NaN  None   2.0  004\n",
            "121494  1.0       1.0  NaN  NaN  NaN  None   2.0  004\n",
            "121563  1.0       2.0  NaN  NaN  0.0  None   2.0  NaN\n",
            "121575  1.0       4.0  NaN  NaN  NaN  None   1.0  001\n",
            "121589  1.0       3.0  NaN  NaN  NaN  None   1.0  004\n",
            "\n",
            "[727 rows x 8 columns]\n"
          ]
        }
      ]
    },
    {
      "cell_type": "code",
      "source": [
        "df_cleaned = df1.dropna(subset=['구코드'])\n",
        "# 3. '도로구분'에서 나올 수 있는 값들 출력\n",
        "unique_road_types = df_cleaned['도로구분'].unique()\n",
        "print(\"\\n도로구분에 나올 수 있는 값들:\")\n",
        "print(unique_road_types)"
      ],
      "metadata": {
        "colab": {
          "base_uri": "https://localhost:8080/"
        },
        "id": "RV6o-17n0GKE",
        "outputId": "2b5c2868-8a88-437f-ac99-d7e011035e34"
      },
      "execution_count": 7,
      "outputs": [
        {
          "output_type": "stream",
          "name": "stdout",
          "text": [
            "\n",
            "도로구분에 나올 수 있는 값들:\n",
            "[ 2.  1. nan]\n"
          ]
        }
      ]
    },
    {
      "cell_type": "code",
      "source": [],
      "metadata": {
        "id": "9p8wmdvH1K0c"
      },
      "execution_count": null,
      "outputs": []
    },
    {
      "cell_type": "code",
      "source": [
        "# 도로구분 필요없음\n",
        "# 2. '도로구분' 열 삭제\n",
        "df_cleaned = df_cleaned.drop(columns=['도로구분'])"
      ],
      "metadata": {
        "id": "GAQsewzi0hqm"
      },
      "execution_count": 8,
      "outputs": []
    },
    {
      "cell_type": "code",
      "source": [
        "# 각 열마다 na 값이 몇 개인지 계산\n",
        "na_counts = df_cleaned.isna().sum()\n",
        "print(na_counts)"
      ],
      "metadata": {
        "colab": {
          "base_uri": "https://localhost:8080/"
        },
        "id": "9IGYVVkX0jQu",
        "outputId": "203fd957-9a3d-4998-9a01-16c6a3ef8085"
      },
      "execution_count": 11,
      "outputs": [
        {
          "output_type": "stream",
          "name": "stdout",
          "text": [
            "상태              8\n",
            "횡단보도종류코드        9\n",
            "구코드             0\n",
            "구이름             0\n",
            "동코드             1\n",
            "동이름          1127\n",
            "공사형태        12352\n",
            "dtype: int64\n"
          ]
        }
      ]
    },
    {
      "cell_type": "code",
      "source": [
        "unique_repair_types = df_cleaned['공사형태'].unique()\n",
        "print(\"\\n공사형태에 나올 수 있는 값들:\")\n",
        "print(unique_repair_types)"
      ],
      "metadata": {
        "colab": {
          "base_uri": "https://localhost:8080/"
        },
        "id": "H9uKsIab0jOB",
        "outputId": "b8c3801b-dd87-4e0d-b6a1-2ba8565f5b2d"
      },
      "execution_count": 12,
      "outputs": [
        {
          "output_type": "stream",
          "name": "stdout",
          "text": [
            "\n",
            "공사형태에 나올 수 있는 값들:\n",
            "['005' nan '004' '003' '001' '010' ' ' '002' '006' '009' '008']\n"
          ]
        }
      ]
    },
    {
      "cell_type": "code",
      "source": [
        "# 2. '동이름'이 NA인 행 출력\n",
        "dong_na_rows = df_cleaned[df_cleaned['동이름'].isna()]\n",
        "print(\"동이름이 NA인 행들:\")\n",
        "print(dong_na_rows)"
      ],
      "metadata": {
        "colab": {
          "base_uri": "https://localhost:8080/"
        },
        "id": "5cu6xzGM1lW4",
        "outputId": "a33da26e-79da-4a7f-ee8b-314369f45d07"
      },
      "execution_count": 13,
      "outputs": [
        {
          "output_type": "stream",
          "name": "stdout",
          "text": [
            "동이름이 NA인 행들:\n",
            "         상태  횡단보도종류코드    구코드  구이름      동코드   동이름 공사형태\n",
            "5623    1.0       3.0  380.0  은평구  10800.0  None  004\n",
            "5624    1.0       3.0  380.0  은평구  10800.0  None  004\n",
            "5625    1.0       3.0  380.0  은평구  10800.0  None  004\n",
            "5626    1.0       3.0  380.0  은평구  10800.0  None  004\n",
            "7540    1.0       1.0  380.0  은평구  10800.0  None  005\n",
            "...     ...       ...    ...  ...      ...   ...  ...\n",
            "121539  1.0       2.0  440.0  마포구      0.0  None  003\n",
            "121542  1.0       2.0  110.0  종로구      0.0  None  001\n",
            "121544  1.0       1.0  540.0  금천구      0.0  None  001\n",
            "121552  1.0       2.0  590.0  동작구      0.0  None  NaN\n",
            "121555  1.0       1.0  530.0  구로구      0.0  None  NaN\n",
            "\n",
            "[1127 rows x 7 columns]\n"
          ]
        }
      ]
    },
    {
      "cell_type": "code",
      "source": [
        "# 3. '구이름'과 '동코드'의 유니크한 조합 추출\n",
        "unique_combinations = dong_na_rows[['구이름', '동코드']].drop_duplicates()\n",
        "\n",
        "print(\"동이름이 NA인 행들 중 유니크한 구이름과 동코드 조합:\")\n",
        "print(unique_combinations)\n"
      ],
      "metadata": {
        "colab": {
          "base_uri": "https://localhost:8080/"
        },
        "id": "ijvMdv3l2YaM",
        "outputId": "a817df2b-5636-48a9-91f0-a942729f0875"
      },
      "execution_count": 14,
      "outputs": [
        {
          "output_type": "stream",
          "name": "stdout",
          "text": [
            "동이름이 NA인 행들 중 유니크한 구이름과 동코드 조합:\n",
            "         구이름      동코드\n",
            "5623     은평구  10800.0\n",
            "8590     은평구      0.0\n",
            "11842   서대문구      NaN\n",
            "11907   서대문구  18000.0\n",
            "12588   서대문구  18700.0\n",
            "12764   서대문구  17200.0\n",
            "13463     중구  17700.0\n",
            "13616   서대문구  16900.0\n",
            "14008     중구      0.0\n",
            "19335    금천구      0.0\n",
            "20544    구로구      0.0\n",
            "23075    구로구  13300.0\n",
            "25460    서초구      0.0\n",
            "34590    강동구  11100.0\n",
            "34907    강동구      0.0\n",
            "38706    광진구      0.0\n",
            "39092    광진구  11500.0\n",
            "40855    성동구  16500.0\n",
            "41007    성동구  16200.0\n",
            "41884   동대문구  12200.0\n",
            "43893    강서구      0.0\n",
            "45727    종로구      0.0\n",
            "48016    성북구  10200.0\n",
            "48065    성북구  17400.0\n",
            "48107    강북구  13400.0\n",
            "49086   동대문구  12500.0\n",
            "51824    서초구  11800.0\n",
            "51905    성북구      0.0\n",
            "53851    중랑구      0.0\n",
            "58481    강남구      0.0\n",
            "59107    성동구      0.0\n",
            "60220    성북구  17500.0\n",
            "62437    도봉구  10300.0\n",
            "64470    마포구      0.0\n",
            "68569    용산구      0.0\n",
            "68738    송파구      0.0\n",
            "68813    강북구      0.0\n",
            "68914   영등포구      0.0\n",
            "69115    양천구      0.0\n",
            "69617    노원구      0.0\n",
            "69628    도봉구      0.0\n",
            "69796    관악구      0.0\n",
            "70341    동작구      0.0\n",
            "73077   동대문구  17500.0\n",
            "74508    동작구  13200.0\n",
            "77923    강북구  13600.0\n",
            "79664   동대문구      0.0\n",
            "102636   강북구  13800.0\n",
            "117452   강북구  10500.0\n"
          ]
        }
      ]
    },
    {
      "cell_type": "code",
      "source": [
        "# 1. '은평구'이고 동코드가 10800인 행의 동이름을 '역촌동'으로 변경\n",
        "df_cleaned.loc[(df_cleaned['구이름'] == '은평구') & (df_cleaned['동코드'] == 10800), '동이름'] = '역촌동'\n",
        "\n",
        "# 2. 동코드가 0.0인 행들의 구이름을 '서대문구', 동이름을 '창천동'으로 변경\n",
        "df_cleaned.loc[df_cleaned['동코드'] == 0.0, ['구이름', '동이름']] = ['서대문구', '창천동']\n",
        "\n",
        "# 3. 동코드가 NaN인 행 삭제\n",
        "df_cleaned = df_cleaned.dropna(subset=['동코드'])\n",
        "\n",
        "# 4. 서대문구 동코드가 18000이면 구이름을 '종로구', 동이름을 '교북동'으로 변경\n",
        "df_cleaned.loc[(df_cleaned['구이름'] == '서대문구') & (df_cleaned['동코드'] == 18000), ['구이름', '동이름']] = ['종로구', '교북동']\n",
        "\n",
        "# 5. 서대문구 동코드가 18700이면 구이름을 '종로구', 동이름을 '무악동'으로 변경\n",
        "df_cleaned.loc[(df_cleaned['구이름'] == '서대문구') & (df_cleaned['동코드'] == 18700), ['구이름', '동이름']] = ['종로구', '무악동']\n",
        "\n",
        "# 6. 서대문구 동코드가 17200이면 구이름을 '종로구', 동이름을 '명륜4가'로 변경\n",
        "df_cleaned.loc[(df_cleaned['구이름'] == '서대문구') & (df_cleaned['동코드'] == 17200), ['구이름', '동이름']] = ['종로구', '명륜4가']\n",
        "\n",
        "# 7. 중구 동코드가 17700이면 구이름을 '종로구', 동이름을 '평동'으로 변경\n",
        "df_cleaned.loc[(df_cleaned['구이름'] == '중구') & (df_cleaned['동코드'] == 17700), ['구이름', '동이름']] = ['종로구', '평동']\n",
        "\n",
        "# 8. 서대문구 동코드가 16900인 행 삭제\n",
        "df_cleaned = df_cleaned[~((df_cleaned['구이름'] == '서대문구') & (df_cleaned['동코드'] == 16900))]\n",
        "\n",
        "# 9. 성북구 동코드가 17500이면 구이름을 '종로구', 동이름을 '숭인동'으로 변경\n",
        "df_cleaned.loc[(df_cleaned['구이름'] == '성북구') & (df_cleaned['동코드'] == 17500), ['구이름', '동이름']] = ['종로구', '숭인동']\n",
        "\n",
        "# 10. 동대문구 동코드가 17500이면 구이름을 '종로구', 동이름을 '숭인동'으로 변경\n",
        "df_cleaned.loc[(df_cleaned['구이름'] == '동대문구') & (df_cleaned['동코드'] == 17500), ['구이름', '동이름']] = ['종로구', '숭인동']\n",
        "\n",
        "# 11. '동이름'이 아직도 NA인 행 출력\n",
        "dong_na_rows_after = df_cleaned[df_cleaned['동이름'].isna()]\n",
        "print(\"동이름이 아직 NA인 행들:\")\n",
        "print(dong_na_rows_after)"
      ],
      "metadata": {
        "colab": {
          "base_uri": "https://localhost:8080/"
        },
        "id": "bm04nwOd53jk",
        "outputId": "ff5d4140-73b6-42a6-b089-4897aa8f6c60"
      },
      "execution_count": 15,
      "outputs": [
        {
          "output_type": "stream",
          "name": "stdout",
          "text": [
            "동이름이 아직 NA인 행들:\n",
            "         상태  횡단보도종류코드    구코드   구이름      동코드   동이름 공사형태\n",
            "23075   1.0       2.0  530.0   구로구  13300.0  None  001\n",
            "24860   1.0       2.0  530.0   구로구  13300.0  None  005\n",
            "34590   1.0       2.0  740.0   강동구  11100.0  None  005\n",
            "39092   1.0       2.0  210.0   광진구  11500.0  None  005\n",
            "39093   1.0       2.0  210.0   광진구  11500.0  None  005\n",
            "39094   1.0       2.0  210.0   광진구  11500.0  None  005\n",
            "39453   1.0       2.0  740.0   강동구  11100.0  None  004\n",
            "39454   1.0       3.0  740.0   강동구  11100.0  None  004\n",
            "40855   1.0       2.0  200.0   성동구  16500.0  None  005\n",
            "40856   1.0       2.0  200.0   성동구  16500.0  None  005\n",
            "40857   1.0       2.0  200.0   성동구  16500.0  None  005\n",
            "40921   1.0       2.0  200.0   성동구  16500.0  None  005\n",
            "40922   1.0       2.0  200.0   성동구  16500.0  None  005\n",
            "40923   1.0       2.0  200.0   성동구  16500.0  None  005\n",
            "40924   1.0       2.0  200.0   성동구  16500.0  None  005\n",
            "40925   1.0       2.0  200.0   성동구  16500.0  None  005\n",
            "40926   1.0       2.0  200.0   성동구  16500.0  None  005\n",
            "41007   1.0       2.0  200.0   성동구  16200.0  None  004\n",
            "41075   1.0       2.0  200.0   성동구  16200.0  None  001\n",
            "41884   1.0       2.0  230.0  동대문구  12200.0  None  005\n",
            "47699   1.0       2.0  230.0  동대문구  12200.0  None  001\n",
            "48016   1.0       2.0  290.0   성북구  10200.0  None  005\n",
            "48022   1.0       2.0  290.0   성북구  10200.0  None  005\n",
            "48023   1.0       2.0  290.0   성북구  10200.0  None  005\n",
            "48065   1.0       2.0  290.0   성북구  17400.0  None  005\n",
            "48107   1.0       2.0  300.0   강북구  13400.0  None  001\n",
            "48144   1.0       2.0  290.0   성북구  10200.0  None  005\n",
            "49086   1.0       2.0  230.0  동대문구  12500.0  None  004\n",
            "51824   1.0       2.0  650.0   서초구  11800.0  None  001\n",
            "52373   1.0       1.0  300.0   강북구  13400.0  None  004\n",
            "52378   1.0       2.0  300.0   강북구  13400.0  None  005\n",
            "58682   1.0       2.0  740.0   강동구  11100.0  None  001\n",
            "62437   1.0       2.0  320.0   도봉구  10300.0  None  005\n",
            "67656   1.0       2.0  650.0   서초구  11800.0  None  004\n",
            "71177   1.0       2.0  230.0  동대문구  12200.0  None  001\n",
            "73539   1.0       2.0  230.0  동대문구  12200.0  None  010\n",
            "74508   1.0       2.0  590.0   동작구  13200.0  None  001\n",
            "76456   1.0       2.0  300.0   강북구  13400.0  None  005\n",
            "77923   1.0       2.0  300.0   강북구  13600.0  None  005\n",
            "77924   1.0       2.0  300.0   강북구  13600.0  None  005\n",
            "79337   1.0       2.0  230.0  동대문구  12200.0  None  005\n",
            "102636  1.0       2.0  300.0   강북구  13800.0  None  005\n",
            "116310  1.0       2.0  300.0   강북구  13800.0  None  005\n",
            "117452  1.0       2.0  300.0   강북구  10500.0  None  001\n",
            "118234  1.0       2.0  210.0   광진구  11500.0  None  005\n",
            "118669  1.0       2.0  300.0   강북구  13800.0  None  005\n"
          ]
        }
      ]
    },
    {
      "cell_type": "code",
      "source": [
        "dong_na_count = df_cleaned['동이름'].isna().sum()\n",
        "print(f\"동이름이 NA인 행의 개수: {dong_na_count}\")"
      ],
      "metadata": {
        "colab": {
          "base_uri": "https://localhost:8080/"
        },
        "id": "23TYDoQF61qn",
        "outputId": "0719aa1f-87ab-4f3f-b1cf-275615fdcfee"
      },
      "execution_count": 17,
      "outputs": [
        {
          "output_type": "stream",
          "name": "stdout",
          "text": [
            "동이름이 NA인 행의 개수: 46\n"
          ]
        }
      ]
    },
    {
      "cell_type": "code",
      "source": [
        "na_counts = df_cleaned.isna().sum()\n",
        "print(\"각 열의 결측치 개수:\")\n",
        "print(na_counts)"
      ],
      "metadata": {
        "colab": {
          "base_uri": "https://localhost:8080/"
        },
        "id": "CO0zSC4e7BCZ",
        "outputId": "a18c80e8-45b4-4a37-f767-d7a8070324ab"
      },
      "execution_count": 18,
      "outputs": [
        {
          "output_type": "stream",
          "name": "stdout",
          "text": [
            "각 열의 결측치 개수:\n",
            "상태              8\n",
            "횡단보도종류코드        9\n",
            "구코드             0\n",
            "구이름             0\n",
            "동코드             0\n",
            "동이름            46\n",
            "공사형태        12352\n",
            "dtype: int64\n"
          ]
        }
      ]
    },
    {
      "cell_type": "code",
      "source": [
        "# 공사형태가 공백(' ')인 행을 삭제\n",
        "df_cleaned = df_cleaned[df_cleaned['공사형태'] != ' ']"
      ],
      "metadata": {
        "id": "Xwdn3vkw_g4_"
      },
      "execution_count": 24,
      "outputs": []
    },
    {
      "cell_type": "code",
      "source": [
        "# 횡단보도종류코드가 5 또는 6인 행을 제거\n",
        "df_cleaned = df_cleaned[~df_cleaned['횡단보도종류코드'].isin([5, 6])]"
      ],
      "metadata": {
        "id": "asDvm8eFBNQq"
      },
      "execution_count": 32,
      "outputs": []
    },
    {
      "cell_type": "code",
      "source": [
        "df_cleaned = df_cleaned.dropna(subset=['상태', '횡단보도종류코드', '동이름', '공사형태'])\n",
        "# '구이름'과 '동이름'을 합쳐서 새로운 열 '구_동' 생성\n",
        "df_cleaned['구_동'] = df_cleaned['구이름'] + ' ' + df_cleaned['동이름']"
      ],
      "metadata": {
        "colab": {
          "base_uri": "https://localhost:8080/"
        },
        "id": "G1utu9e_7Q4a",
        "outputId": "929cd841-e4e1-4d73-e583-324ba82cc25e"
      },
      "execution_count": 20,
      "outputs": [
        {
          "output_type": "stream",
          "name": "stdout",
          "text": [
            "결측치 제거 후 총 행의 개수: 108464\n"
          ]
        }
      ]
    },
    {
      "cell_type": "code",
      "source": [
        "total_rows = df_cleaned.shape[0]\n",
        "print(f\"결측치 제거 후 총 행의 개수: {total_rows}\")"
      ],
      "metadata": {
        "colab": {
          "base_uri": "https://localhost:8080/"
        },
        "id": "Ams7HX9b_xDu",
        "outputId": "d1d9ea45-6547-4a5a-f0bc-ccddf0715117"
      },
      "execution_count": 33,
      "outputs": [
        {
          "output_type": "stream",
          "name": "stdout",
          "text": [
            "결측치 제거 후 총 행의 개수: 108187\n"
          ]
        }
      ]
    },
    {
      "cell_type": "code",
      "source": [
        "# 'cleaned_crosswalk.csv'로 저장\n",
        "df_cleaned.to_csv('/content/drive/MyDrive/seoul_data/cleaned_crosswalk.csv', index=False)"
      ],
      "metadata": {
        "id": "7fiJvb2F_n-9"
      },
      "execution_count": 34,
      "outputs": []
    },
    {
      "cell_type": "code",
      "source": [
        "# 1. 상태별 열을 생성하여 '구_동'별로 상태 개수 계산\n",
        "df_status = df_cleaned.pivot_table(\n",
        "    index='구_동',\n",
        "    columns='상태',\n",
        "    aggfunc='size',\n",
        "    fill_value=0\n",
        ").reset_index()\n",
        "\n",
        "# 2. 횡단보도종류코드별 열을 생성하여 '구_동'별로 횡단보도종류코드 개수 계산\n",
        "df_crosswalk_type = df_cleaned.pivot_table(\n",
        "    index='구_동',\n",
        "    columns='횡단보도종류코드',\n",
        "    aggfunc='size',\n",
        "    fill_value=0\n",
        ").reset_index()\n",
        "\n",
        "# 3. 공사형태별 열을 생성하여 '구_동'별로 공사형태 개수 계산\n",
        "df_construction_type = df_cleaned.pivot_table(\n",
        "    index='구_동',\n",
        "    columns='공사형태',\n",
        "    aggfunc='size',\n",
        "    fill_value=0\n",
        ").reset_index()\n",
        "\n",
        "# 4. 다른 열들(횡단보도 개수, 횡단보도종류코드 개수, 공사형태 개수)도 구_동별로 그룹화하여 추가\n",
        "df_additional = df_cleaned.groupby('구_동').agg(\n",
        "    횡단보도_개수=('구_동', 'size')  # 횡단보도 개수\n",
        ").reset_index()\n",
        "\n",
        "# 5. 상태, 횡단보도종류코드, 공사형태 데이터를 모두 병합\n",
        "df_final = pd.merge(df_status, df_crosswalk_type, on='구_동', how='left')\n",
        "df_final = pd.merge(df_final, df_construction_type, on='구_동', how='left')\n",
        "df_final = pd.merge(df_final, df_additional, on='구_동', how='left')\n",
        "\n",
        "# 열 이름 변경\n",
        "df_final.columns = [\n",
        "    '구_동', '상태_양호', '상태_파손', '상태_도색', '상태_노후',\n",
        "    '종류_1', '종류_2', '종류_3', '종류_4',\n",
        "    '공사_1', '공사_2', '공사_3', '공사_4', '공사_5', '공사_6', '공사_8', '공사_9', '공사_10',\n",
        "    '횡단보도_개수'\n",
        "]\n",
        "\n",
        "\n",
        "# 상태, 횡단보도종류코드, 공사형태의 고유값 출력\n",
        "unique_status = df_cleaned['상태'].unique()\n",
        "unique_crosswalk_type = df_cleaned['횡단보도종류코드'].unique()\n",
        "unique_construction_type = df_cleaned['공사형태'].unique()\n",
        "\n",
        "print(\"상태 열의 고유값:\", unique_status)\n",
        "print(\"횡단보도종류코드 열의 고유값:\", unique_crosswalk_type)\n",
        "print(\"공사형태 열의 고유값:\", unique_construction_type)"
      ],
      "metadata": {
        "colab": {
          "base_uri": "https://localhost:8080/"
        },
        "id": "xP_YJeZK8xza",
        "outputId": "a84e131d-65dc-4bc2-d3b3-c11ec4ad850a"
      },
      "execution_count": 36,
      "outputs": [
        {
          "output_type": "stream",
          "name": "stdout",
          "text": [
            "상태 열의 고유값: [1. 4. 3. 2.]\n",
            "횡단보도종류코드 열의 고유값: [2. 3. 4. 1.]\n",
            "공사형태 열의 고유값: ['005' '004' '003' '001' '010' '002' '006' '009' '008']\n"
          ]
        }
      ]
    },
    {
      "cell_type": "code",
      "source": [
        "# 결과를 CSV 파일로 저장\n",
        "df_final.to_csv('/content/drive/MyDrive/seoul_data/crosswalk_grouped_cleaned.csv', index=False)\n",
        "\n",
        "# 결과 출력\n",
        "print(df_final.head())\n",
        "df_final.describe()"
      ],
      "metadata": {
        "colab": {
          "base_uri": "https://localhost:8080/",
          "height": 546
        },
        "id": "sQ9oE23RAG2n",
        "outputId": "fa3c26de-f143-434c-97e4-e87cbf6cb6cd"
      },
      "execution_count": 37,
      "outputs": [
        {
          "output_type": "stream",
          "name": "stdout",
          "text": [
            "       구_동  상태_양호  상태_파손  상태_도색  상태_노후  종류_1  종류_2  종류_3  종류_4  공사_1  공사_2  \\\n",
            "0  강남구 개포동    379      0      0      1    69   244    60     7    11     0   \n",
            "1  강남구 논현동    816      0      0      2   262   331   216     9   131     0   \n",
            "2  강남구 대치동    852      0      0      5   202   421   227     7    43     0   \n",
            "3  강남구 도곡동    381      0      0      4    70   227    79     9    68     0   \n",
            "4  강남구 삼성동    779      0      0      2   171   439   166     5    57     1   \n",
            "\n",
            "   공사_3  공사_4  공사_5  공사_6  공사_8  공사_9  공사_10  횡단보도_개수  \n",
            "0    19   111   215     0     0     0     24      380  \n",
            "1    12    81   574     0     0     0     20      818  \n",
            "2    10   150   643     0     0     0     11      857  \n",
            "3     8    68   236     0     0     0      5      385  \n",
            "4    26   117   552     0     3     0     25      781  \n"
          ]
        },
        {
          "output_type": "execute_result",
          "data": {
            "text/plain": [
              "             상태_양호       상태_파손       상태_도색       상태_노후        종류_1  \\\n",
              "count   456.000000  456.000000  456.000000  456.000000  456.000000   \n",
              "mean    234.973684    0.013158    0.438596    1.826754   44.822368   \n",
              "std     318.853494    0.131943    2.403423    3.762543   62.623111   \n",
              "min       1.000000    0.000000    0.000000    0.000000    0.000000   \n",
              "25%      37.000000    0.000000    0.000000    0.000000    6.000000   \n",
              "50%      91.000000    0.000000    0.000000    0.000000   17.000000   \n",
              "75%     326.750000    0.000000    0.000000    2.000000   57.000000   \n",
              "max    1931.000000    2.000000   32.000000   29.000000  387.000000   \n",
              "\n",
              "              종류_2        종류_3        종류_4        공사_1        공사_2  \\\n",
              "count   456.000000  456.000000  456.000000  456.000000  456.000000   \n",
              "mean    132.442982   57.618421    2.368421   36.041667    0.037281   \n",
              "std     186.813008   81.370724    4.264885   61.210575    0.249687   \n",
              "min       0.000000    0.000000    0.000000    0.000000    0.000000   \n",
              "25%      18.000000    8.000000    0.000000    3.000000    0.000000   \n",
              "50%      48.000000   21.000000    1.000000   12.000000    0.000000   \n",
              "75%     173.750000   79.500000    3.000000   40.000000    0.000000   \n",
              "max    1292.000000  460.000000   37.000000  462.000000    3.000000   \n",
              "\n",
              "             공사_3        공사_4         공사_5        공사_6        공사_8  \\\n",
              "count  456.000000  456.000000   456.000000  456.000000  456.000000   \n",
              "mean     7.831140   47.848684   135.203947    0.129386    0.006579   \n",
              "std     10.374525   67.410414   192.414468    0.665254    0.140488   \n",
              "min      0.000000    0.000000     0.000000    0.000000    0.000000   \n",
              "25%      1.000000    5.000000    17.000000    0.000000    0.000000   \n",
              "50%      3.000000   17.000000    49.000000    0.000000    0.000000   \n",
              "75%     11.000000   67.250000   195.000000    0.000000    0.000000   \n",
              "max     61.000000  463.000000  1364.000000    6.000000    3.000000   \n",
              "\n",
              "             공사_9       공사_10      횡단보도_개수  \n",
              "count  456.000000  456.000000   456.000000  \n",
              "mean     0.506579    9.646930   237.252193  \n",
              "std      3.898712   20.436993   321.588044  \n",
              "min      0.000000    0.000000     1.000000  \n",
              "25%      0.000000    0.000000    37.000000  \n",
              "50%      0.000000    1.000000    92.000000  \n",
              "75%      0.000000   11.250000   327.750000  \n",
              "max     72.000000  214.000000  1946.000000  "
            ],
            "text/html": [
              "\n",
              "  <div id=\"df-b78eff93-2d10-4c78-97d0-f24188ca7eb6\" class=\"colab-df-container\">\n",
              "    <div>\n",
              "<style scoped>\n",
              "    .dataframe tbody tr th:only-of-type {\n",
              "        vertical-align: middle;\n",
              "    }\n",
              "\n",
              "    .dataframe tbody tr th {\n",
              "        vertical-align: top;\n",
              "    }\n",
              "\n",
              "    .dataframe thead th {\n",
              "        text-align: right;\n",
              "    }\n",
              "</style>\n",
              "<table border=\"1\" class=\"dataframe\">\n",
              "  <thead>\n",
              "    <tr style=\"text-align: right;\">\n",
              "      <th></th>\n",
              "      <th>상태_양호</th>\n",
              "      <th>상태_파손</th>\n",
              "      <th>상태_도색</th>\n",
              "      <th>상태_노후</th>\n",
              "      <th>종류_1</th>\n",
              "      <th>종류_2</th>\n",
              "      <th>종류_3</th>\n",
              "      <th>종류_4</th>\n",
              "      <th>공사_1</th>\n",
              "      <th>공사_2</th>\n",
              "      <th>공사_3</th>\n",
              "      <th>공사_4</th>\n",
              "      <th>공사_5</th>\n",
              "      <th>공사_6</th>\n",
              "      <th>공사_8</th>\n",
              "      <th>공사_9</th>\n",
              "      <th>공사_10</th>\n",
              "      <th>횡단보도_개수</th>\n",
              "    </tr>\n",
              "  </thead>\n",
              "  <tbody>\n",
              "    <tr>\n",
              "      <th>count</th>\n",
              "      <td>456.000000</td>\n",
              "      <td>456.000000</td>\n",
              "      <td>456.000000</td>\n",
              "      <td>456.000000</td>\n",
              "      <td>456.000000</td>\n",
              "      <td>456.000000</td>\n",
              "      <td>456.000000</td>\n",
              "      <td>456.000000</td>\n",
              "      <td>456.000000</td>\n",
              "      <td>456.000000</td>\n",
              "      <td>456.000000</td>\n",
              "      <td>456.000000</td>\n",
              "      <td>456.000000</td>\n",
              "      <td>456.000000</td>\n",
              "      <td>456.000000</td>\n",
              "      <td>456.000000</td>\n",
              "      <td>456.000000</td>\n",
              "      <td>456.000000</td>\n",
              "    </tr>\n",
              "    <tr>\n",
              "      <th>mean</th>\n",
              "      <td>234.973684</td>\n",
              "      <td>0.013158</td>\n",
              "      <td>0.438596</td>\n",
              "      <td>1.826754</td>\n",
              "      <td>44.822368</td>\n",
              "      <td>132.442982</td>\n",
              "      <td>57.618421</td>\n",
              "      <td>2.368421</td>\n",
              "      <td>36.041667</td>\n",
              "      <td>0.037281</td>\n",
              "      <td>7.831140</td>\n",
              "      <td>47.848684</td>\n",
              "      <td>135.203947</td>\n",
              "      <td>0.129386</td>\n",
              "      <td>0.006579</td>\n",
              "      <td>0.506579</td>\n",
              "      <td>9.646930</td>\n",
              "      <td>237.252193</td>\n",
              "    </tr>\n",
              "    <tr>\n",
              "      <th>std</th>\n",
              "      <td>318.853494</td>\n",
              "      <td>0.131943</td>\n",
              "      <td>2.403423</td>\n",
              "      <td>3.762543</td>\n",
              "      <td>62.623111</td>\n",
              "      <td>186.813008</td>\n",
              "      <td>81.370724</td>\n",
              "      <td>4.264885</td>\n",
              "      <td>61.210575</td>\n",
              "      <td>0.249687</td>\n",
              "      <td>10.374525</td>\n",
              "      <td>67.410414</td>\n",
              "      <td>192.414468</td>\n",
              "      <td>0.665254</td>\n",
              "      <td>0.140488</td>\n",
              "      <td>3.898712</td>\n",
              "      <td>20.436993</td>\n",
              "      <td>321.588044</td>\n",
              "    </tr>\n",
              "    <tr>\n",
              "      <th>min</th>\n",
              "      <td>1.000000</td>\n",
              "      <td>0.000000</td>\n",
              "      <td>0.000000</td>\n",
              "      <td>0.000000</td>\n",
              "      <td>0.000000</td>\n",
              "      <td>0.000000</td>\n",
              "      <td>0.000000</td>\n",
              "      <td>0.000000</td>\n",
              "      <td>0.000000</td>\n",
              "      <td>0.000000</td>\n",
              "      <td>0.000000</td>\n",
              "      <td>0.000000</td>\n",
              "      <td>0.000000</td>\n",
              "      <td>0.000000</td>\n",
              "      <td>0.000000</td>\n",
              "      <td>0.000000</td>\n",
              "      <td>0.000000</td>\n",
              "      <td>1.000000</td>\n",
              "    </tr>\n",
              "    <tr>\n",
              "      <th>25%</th>\n",
              "      <td>37.000000</td>\n",
              "      <td>0.000000</td>\n",
              "      <td>0.000000</td>\n",
              "      <td>0.000000</td>\n",
              "      <td>6.000000</td>\n",
              "      <td>18.000000</td>\n",
              "      <td>8.000000</td>\n",
              "      <td>0.000000</td>\n",
              "      <td>3.000000</td>\n",
              "      <td>0.000000</td>\n",
              "      <td>1.000000</td>\n",
              "      <td>5.000000</td>\n",
              "      <td>17.000000</td>\n",
              "      <td>0.000000</td>\n",
              "      <td>0.000000</td>\n",
              "      <td>0.000000</td>\n",
              "      <td>0.000000</td>\n",
              "      <td>37.000000</td>\n",
              "    </tr>\n",
              "    <tr>\n",
              "      <th>50%</th>\n",
              "      <td>91.000000</td>\n",
              "      <td>0.000000</td>\n",
              "      <td>0.000000</td>\n",
              "      <td>0.000000</td>\n",
              "      <td>17.000000</td>\n",
              "      <td>48.000000</td>\n",
              "      <td>21.000000</td>\n",
              "      <td>1.000000</td>\n",
              "      <td>12.000000</td>\n",
              "      <td>0.000000</td>\n",
              "      <td>3.000000</td>\n",
              "      <td>17.000000</td>\n",
              "      <td>49.000000</td>\n",
              "      <td>0.000000</td>\n",
              "      <td>0.000000</td>\n",
              "      <td>0.000000</td>\n",
              "      <td>1.000000</td>\n",
              "      <td>92.000000</td>\n",
              "    </tr>\n",
              "    <tr>\n",
              "      <th>75%</th>\n",
              "      <td>326.750000</td>\n",
              "      <td>0.000000</td>\n",
              "      <td>0.000000</td>\n",
              "      <td>2.000000</td>\n",
              "      <td>57.000000</td>\n",
              "      <td>173.750000</td>\n",
              "      <td>79.500000</td>\n",
              "      <td>3.000000</td>\n",
              "      <td>40.000000</td>\n",
              "      <td>0.000000</td>\n",
              "      <td>11.000000</td>\n",
              "      <td>67.250000</td>\n",
              "      <td>195.000000</td>\n",
              "      <td>0.000000</td>\n",
              "      <td>0.000000</td>\n",
              "      <td>0.000000</td>\n",
              "      <td>11.250000</td>\n",
              "      <td>327.750000</td>\n",
              "    </tr>\n",
              "    <tr>\n",
              "      <th>max</th>\n",
              "      <td>1931.000000</td>\n",
              "      <td>2.000000</td>\n",
              "      <td>32.000000</td>\n",
              "      <td>29.000000</td>\n",
              "      <td>387.000000</td>\n",
              "      <td>1292.000000</td>\n",
              "      <td>460.000000</td>\n",
              "      <td>37.000000</td>\n",
              "      <td>462.000000</td>\n",
              "      <td>3.000000</td>\n",
              "      <td>61.000000</td>\n",
              "      <td>463.000000</td>\n",
              "      <td>1364.000000</td>\n",
              "      <td>6.000000</td>\n",
              "      <td>3.000000</td>\n",
              "      <td>72.000000</td>\n",
              "      <td>214.000000</td>\n",
              "      <td>1946.000000</td>\n",
              "    </tr>\n",
              "  </tbody>\n",
              "</table>\n",
              "</div>\n",
              "    <div class=\"colab-df-buttons\">\n",
              "\n",
              "  <div class=\"colab-df-container\">\n",
              "    <button class=\"colab-df-convert\" onclick=\"convertToInteractive('df-b78eff93-2d10-4c78-97d0-f24188ca7eb6')\"\n",
              "            title=\"Convert this dataframe to an interactive table.\"\n",
              "            style=\"display:none;\">\n",
              "\n",
              "  <svg xmlns=\"http://www.w3.org/2000/svg\" height=\"24px\" viewBox=\"0 -960 960 960\">\n",
              "    <path d=\"M120-120v-720h720v720H120Zm60-500h600v-160H180v160Zm220 220h160v-160H400v160Zm0 220h160v-160H400v160ZM180-400h160v-160H180v160Zm440 0h160v-160H620v160ZM180-180h160v-160H180v160Zm440 0h160v-160H620v160Z\"/>\n",
              "  </svg>\n",
              "    </button>\n",
              "\n",
              "  <style>\n",
              "    .colab-df-container {\n",
              "      display:flex;\n",
              "      gap: 12px;\n",
              "    }\n",
              "\n",
              "    .colab-df-convert {\n",
              "      background-color: #E8F0FE;\n",
              "      border: none;\n",
              "      border-radius: 50%;\n",
              "      cursor: pointer;\n",
              "      display: none;\n",
              "      fill: #1967D2;\n",
              "      height: 32px;\n",
              "      padding: 0 0 0 0;\n",
              "      width: 32px;\n",
              "    }\n",
              "\n",
              "    .colab-df-convert:hover {\n",
              "      background-color: #E2EBFA;\n",
              "      box-shadow: 0px 1px 2px rgba(60, 64, 67, 0.3), 0px 1px 3px 1px rgba(60, 64, 67, 0.15);\n",
              "      fill: #174EA6;\n",
              "    }\n",
              "\n",
              "    .colab-df-buttons div {\n",
              "      margin-bottom: 4px;\n",
              "    }\n",
              "\n",
              "    [theme=dark] .colab-df-convert {\n",
              "      background-color: #3B4455;\n",
              "      fill: #D2E3FC;\n",
              "    }\n",
              "\n",
              "    [theme=dark] .colab-df-convert:hover {\n",
              "      background-color: #434B5C;\n",
              "      box-shadow: 0px 1px 3px 1px rgba(0, 0, 0, 0.15);\n",
              "      filter: drop-shadow(0px 1px 2px rgba(0, 0, 0, 0.3));\n",
              "      fill: #FFFFFF;\n",
              "    }\n",
              "  </style>\n",
              "\n",
              "    <script>\n",
              "      const buttonEl =\n",
              "        document.querySelector('#df-b78eff93-2d10-4c78-97d0-f24188ca7eb6 button.colab-df-convert');\n",
              "      buttonEl.style.display =\n",
              "        google.colab.kernel.accessAllowed ? 'block' : 'none';\n",
              "\n",
              "      async function convertToInteractive(key) {\n",
              "        const element = document.querySelector('#df-b78eff93-2d10-4c78-97d0-f24188ca7eb6');\n",
              "        const dataTable =\n",
              "          await google.colab.kernel.invokeFunction('convertToInteractive',\n",
              "                                                    [key], {});\n",
              "        if (!dataTable) return;\n",
              "\n",
              "        const docLinkHtml = 'Like what you see? Visit the ' +\n",
              "          '<a target=\"_blank\" href=https://colab.research.google.com/notebooks/data_table.ipynb>data table notebook</a>'\n",
              "          + ' to learn more about interactive tables.';\n",
              "        element.innerHTML = '';\n",
              "        dataTable['output_type'] = 'display_data';\n",
              "        await google.colab.output.renderOutput(dataTable, element);\n",
              "        const docLink = document.createElement('div');\n",
              "        docLink.innerHTML = docLinkHtml;\n",
              "        element.appendChild(docLink);\n",
              "      }\n",
              "    </script>\n",
              "  </div>\n",
              "\n",
              "\n",
              "<div id=\"df-2e69f574-7374-43e9-98a2-fc1565fc7c1a\">\n",
              "  <button class=\"colab-df-quickchart\" onclick=\"quickchart('df-2e69f574-7374-43e9-98a2-fc1565fc7c1a')\"\n",
              "            title=\"Suggest charts\"\n",
              "            style=\"display:none;\">\n",
              "\n",
              "<svg xmlns=\"http://www.w3.org/2000/svg\" height=\"24px\"viewBox=\"0 0 24 24\"\n",
              "     width=\"24px\">\n",
              "    <g>\n",
              "        <path d=\"M19 3H5c-1.1 0-2 .9-2 2v14c0 1.1.9 2 2 2h14c1.1 0 2-.9 2-2V5c0-1.1-.9-2-2-2zM9 17H7v-7h2v7zm4 0h-2V7h2v10zm4 0h-2v-4h2v4z\"/>\n",
              "    </g>\n",
              "</svg>\n",
              "  </button>\n",
              "\n",
              "<style>\n",
              "  .colab-df-quickchart {\n",
              "      --bg-color: #E8F0FE;\n",
              "      --fill-color: #1967D2;\n",
              "      --hover-bg-color: #E2EBFA;\n",
              "      --hover-fill-color: #174EA6;\n",
              "      --disabled-fill-color: #AAA;\n",
              "      --disabled-bg-color: #DDD;\n",
              "  }\n",
              "\n",
              "  [theme=dark] .colab-df-quickchart {\n",
              "      --bg-color: #3B4455;\n",
              "      --fill-color: #D2E3FC;\n",
              "      --hover-bg-color: #434B5C;\n",
              "      --hover-fill-color: #FFFFFF;\n",
              "      --disabled-bg-color: #3B4455;\n",
              "      --disabled-fill-color: #666;\n",
              "  }\n",
              "\n",
              "  .colab-df-quickchart {\n",
              "    background-color: var(--bg-color);\n",
              "    border: none;\n",
              "    border-radius: 50%;\n",
              "    cursor: pointer;\n",
              "    display: none;\n",
              "    fill: var(--fill-color);\n",
              "    height: 32px;\n",
              "    padding: 0;\n",
              "    width: 32px;\n",
              "  }\n",
              "\n",
              "  .colab-df-quickchart:hover {\n",
              "    background-color: var(--hover-bg-color);\n",
              "    box-shadow: 0 1px 2px rgba(60, 64, 67, 0.3), 0 1px 3px 1px rgba(60, 64, 67, 0.15);\n",
              "    fill: var(--button-hover-fill-color);\n",
              "  }\n",
              "\n",
              "  .colab-df-quickchart-complete:disabled,\n",
              "  .colab-df-quickchart-complete:disabled:hover {\n",
              "    background-color: var(--disabled-bg-color);\n",
              "    fill: var(--disabled-fill-color);\n",
              "    box-shadow: none;\n",
              "  }\n",
              "\n",
              "  .colab-df-spinner {\n",
              "    border: 2px solid var(--fill-color);\n",
              "    border-color: transparent;\n",
              "    border-bottom-color: var(--fill-color);\n",
              "    animation:\n",
              "      spin 1s steps(1) infinite;\n",
              "  }\n",
              "\n",
              "  @keyframes spin {\n",
              "    0% {\n",
              "      border-color: transparent;\n",
              "      border-bottom-color: var(--fill-color);\n",
              "      border-left-color: var(--fill-color);\n",
              "    }\n",
              "    20% {\n",
              "      border-color: transparent;\n",
              "      border-left-color: var(--fill-color);\n",
              "      border-top-color: var(--fill-color);\n",
              "    }\n",
              "    30% {\n",
              "      border-color: transparent;\n",
              "      border-left-color: var(--fill-color);\n",
              "      border-top-color: var(--fill-color);\n",
              "      border-right-color: var(--fill-color);\n",
              "    }\n",
              "    40% {\n",
              "      border-color: transparent;\n",
              "      border-right-color: var(--fill-color);\n",
              "      border-top-color: var(--fill-color);\n",
              "    }\n",
              "    60% {\n",
              "      border-color: transparent;\n",
              "      border-right-color: var(--fill-color);\n",
              "    }\n",
              "    80% {\n",
              "      border-color: transparent;\n",
              "      border-right-color: var(--fill-color);\n",
              "      border-bottom-color: var(--fill-color);\n",
              "    }\n",
              "    90% {\n",
              "      border-color: transparent;\n",
              "      border-bottom-color: var(--fill-color);\n",
              "    }\n",
              "  }\n",
              "</style>\n",
              "\n",
              "  <script>\n",
              "    async function quickchart(key) {\n",
              "      const quickchartButtonEl =\n",
              "        document.querySelector('#' + key + ' button');\n",
              "      quickchartButtonEl.disabled = true;  // To prevent multiple clicks.\n",
              "      quickchartButtonEl.classList.add('colab-df-spinner');\n",
              "      try {\n",
              "        const charts = await google.colab.kernel.invokeFunction(\n",
              "            'suggestCharts', [key], {});\n",
              "      } catch (error) {\n",
              "        console.error('Error during call to suggestCharts:', error);\n",
              "      }\n",
              "      quickchartButtonEl.classList.remove('colab-df-spinner');\n",
              "      quickchartButtonEl.classList.add('colab-df-quickchart-complete');\n",
              "    }\n",
              "    (() => {\n",
              "      let quickchartButtonEl =\n",
              "        document.querySelector('#df-2e69f574-7374-43e9-98a2-fc1565fc7c1a button');\n",
              "      quickchartButtonEl.style.display =\n",
              "        google.colab.kernel.accessAllowed ? 'block' : 'none';\n",
              "    })();\n",
              "  </script>\n",
              "</div>\n",
              "\n",
              "    </div>\n",
              "  </div>\n"
            ],
            "application/vnd.google.colaboratory.intrinsic+json": {
              "type": "dataframe",
              "summary": "{\n  \"name\": \"df_final\",\n  \"rows\": 8,\n  \"fields\": [\n    {\n      \"column\": \"\\uc0c1\\ud0dc_\\uc591\\ud638\",\n      \"properties\": {\n        \"dtype\": \"number\",\n        \"std\": 628.8199469027417,\n        \"min\": 1.0,\n        \"max\": 1931.0,\n        \"num_unique_values\": 8,\n        \"samples\": [\n          234.97368421052633,\n          91.0,\n          456.0\n        ],\n        \"semantic_type\": \"\",\n        \"description\": \"\"\n      }\n    },\n    {\n      \"column\": \"\\uc0c1\\ud0dc_\\ud30c\\uc190\",\n      \"properties\": {\n        \"dtype\": \"number\",\n        \"std\": 161.113491905905,\n        \"min\": 0.0,\n        \"max\": 456.0,\n        \"num_unique_values\": 5,\n        \"samples\": [\n          0.013157894736842105,\n          2.0,\n          0.13194281671463245\n        ],\n        \"semantic_type\": \"\",\n        \"description\": \"\"\n      }\n    },\n    {\n      \"column\": \"\\uc0c1\\ud0dc_\\ub3c4\\uc0c9\",\n      \"properties\": {\n        \"dtype\": \"number\",\n        \"std\": 159.8437776712878,\n        \"min\": 0.0,\n        \"max\": 456.0,\n        \"num_unique_values\": 5,\n        \"samples\": [\n          0.43859649122807015,\n          32.0,\n          2.403422789015052\n        ],\n        \"semantic_type\": \"\",\n        \"description\": \"\"\n      }\n    },\n    {\n      \"column\": \"\\uc0c1\\ud0dc_\\ub178\\ud6c4\",\n      \"properties\": {\n        \"dtype\": \"number\",\n        \"std\": 159.67286500060348,\n        \"min\": 0.0,\n        \"max\": 456.0,\n        \"num_unique_values\": 6,\n        \"samples\": [\n          456.0,\n          1.8267543859649122,\n          29.0\n        ],\n        \"semantic_type\": \"\",\n        \"description\": \"\"\n      }\n    },\n    {\n      \"column\": \"\\uc885\\ub958_1\",\n      \"properties\": {\n        \"dtype\": \"number\",\n        \"std\": 183.0232080992897,\n        \"min\": 0.0,\n        \"max\": 456.0,\n        \"num_unique_values\": 8,\n        \"samples\": [\n          44.82236842105263,\n          17.0,\n          456.0\n        ],\n        \"semantic_type\": \"\",\n        \"description\": \"\"\n      }\n    },\n    {\n      \"column\": \"\\uc885\\ub958_2\",\n      \"properties\": {\n        \"dtype\": \"number\",\n        \"std\": 430.4769325188764,\n        \"min\": 0.0,\n        \"max\": 1292.0,\n        \"num_unique_values\": 8,\n        \"samples\": [\n          132.44298245614036,\n          48.0,\n          456.0\n        ],\n        \"semantic_type\": \"\",\n        \"description\": \"\"\n      }\n    },\n    {\n      \"column\": \"\\uc885\\ub958_3\",\n      \"properties\": {\n        \"dtype\": \"number\",\n        \"std\": 195.33449454976397,\n        \"min\": 0.0,\n        \"max\": 460.0,\n        \"num_unique_values\": 8,\n        \"samples\": [\n          57.61842105263158,\n          21.0,\n          456.0\n        ],\n        \"semantic_type\": \"\",\n        \"description\": \"\"\n      }\n    },\n    {\n      \"column\": \"\\uc885\\ub958_4\",\n      \"properties\": {\n        \"dtype\": \"number\",\n        \"std\": 159.29890382342685,\n        \"min\": 0.0,\n        \"max\": 456.0,\n        \"num_unique_values\": 7,\n        \"samples\": [\n          456.0,\n          2.3684210526315788,\n          3.0\n        ],\n        \"semantic_type\": \"\",\n        \"description\": \"\"\n      }\n    },\n    {\n      \"column\": \"\\uacf5\\uc0ac_1\",\n      \"properties\": {\n        \"dtype\": \"number\",\n        \"std\": 201.7773715158658,\n        \"min\": 0.0,\n        \"max\": 462.0,\n        \"num_unique_values\": 8,\n        \"samples\": [\n          36.041666666666664,\n          12.0,\n          456.0\n        ],\n        \"semantic_type\": \"\",\n        \"description\": \"\"\n      }\n    },\n    {\n      \"column\": \"\\uacf5\\uc0ac_2\",\n      \"properties\": {\n        \"dtype\": \"number\",\n        \"std\": 161.05766445181342,\n        \"min\": 0.0,\n        \"max\": 456.0,\n        \"num_unique_values\": 5,\n        \"samples\": [\n          0.03728070175438596,\n          3.0,\n          0.24968652025287622\n        ],\n        \"semantic_type\": \"\",\n        \"description\": \"\"\n      }\n    },\n    {\n      \"column\": \"\\uacf5\\uc0ac_3\",\n      \"properties\": {\n        \"dtype\": \"number\",\n        \"std\": 157.71410539365252,\n        \"min\": 0.0,\n        \"max\": 456.0,\n        \"num_unique_values\": 8,\n        \"samples\": [\n          7.831140350877193,\n          3.0,\n          456.0\n        ],\n        \"semantic_type\": \"\",\n        \"description\": \"\"\n      }\n    },\n    {\n      \"column\": \"\\uacf5\\uc0ac_4\",\n      \"properties\": {\n        \"dtype\": \"number\",\n        \"std\": 198.63503371383,\n        \"min\": 0.0,\n        \"max\": 463.0,\n        \"num_unique_values\": 8,\n        \"samples\": [\n          47.848684210526315,\n          17.0,\n          456.0\n        ],\n        \"semantic_type\": \"\",\n        \"description\": \"\"\n      }\n    },\n    {\n      \"column\": \"\\uacf5\\uc0ac_5\",\n      \"properties\": {\n        \"dtype\": \"number\",\n        \"std\": 453.4424047527208,\n        \"min\": 0.0,\n        \"max\": 1364.0,\n        \"num_unique_values\": 8,\n        \"samples\": [\n          135.20394736842104,\n          49.0,\n          456.0\n        ],\n        \"semantic_type\": \"\",\n        \"description\": \"\"\n      }\n    },\n    {\n      \"column\": \"\\uacf5\\uc0ac_6\",\n      \"properties\": {\n        \"dtype\": \"number\",\n        \"std\": 160.8904238623466,\n        \"min\": 0.0,\n        \"max\": 456.0,\n        \"num_unique_values\": 5,\n        \"samples\": [\n          0.12938596491228072,\n          6.0,\n          0.6652541909794858\n        ],\n        \"semantic_type\": \"\",\n        \"description\": \"\"\n      }\n    },\n    {\n      \"column\": \"\\uacf5\\uc0ac_8\",\n      \"properties\": {\n        \"dtype\": \"number\",\n        \"std\": 161.06476787706558,\n        \"min\": 0.0,\n        \"max\": 456.0,\n        \"num_unique_values\": 5,\n        \"samples\": [\n          0.006578947368421052,\n          3.0,\n          0.14048787173725413\n        ],\n        \"semantic_type\": \"\",\n        \"description\": \"\"\n      }\n    },\n    {\n      \"column\": \"\\uacf5\\uc0ac_9\",\n      \"properties\": {\n        \"dtype\": \"number\",\n        \"std\": 159.33053349516865,\n        \"min\": 0.0,\n        \"max\": 456.0,\n        \"num_unique_values\": 5,\n        \"samples\": [\n          0.506578947368421,\n          72.0,\n          3.898712174850182\n        ],\n        \"semantic_type\": \"\",\n        \"description\": \"\"\n      }\n    },\n    {\n      \"column\": \"\\uacf5\\uc0ac_10\",\n      \"properties\": {\n        \"dtype\": \"number\",\n        \"std\": 165.15916317906067,\n        \"min\": 0.0,\n        \"max\": 456.0,\n        \"num_unique_values\": 7,\n        \"samples\": [\n          456.0,\n          9.646929824561404,\n          11.25\n        ],\n        \"semantic_type\": \"\",\n        \"description\": \"\"\n      }\n    },\n    {\n      \"column\": \"\\ud6a1\\ub2e8\\ubcf4\\ub3c4_\\uac1c\\uc218\",\n      \"properties\": {\n        \"dtype\": \"number\",\n        \"std\": 633.6931022052207,\n        \"min\": 1.0,\n        \"max\": 1946.0,\n        \"num_unique_values\": 8,\n        \"samples\": [\n          237.25219298245614,\n          92.0,\n          456.0\n        ],\n        \"semantic_type\": \"\",\n        \"description\": \"\"\n      }\n    }\n  ]\n}"
            }
          },
          "metadata": {},
          "execution_count": 37
        }
      ]
    },
    {
      "cell_type": "markdown",
      "source": [
        "## 3. 노인보행자 사고 및 횡단보도 데이터 통합\n"
      ],
      "metadata": {
        "id": "A_TJEFdk2ZGC"
      }
    },
    {
      "cell_type": "code",
      "source": [
        "# 1. 노인교통사고 엑셀 파일을 불러오고 필요하다면 CSV로 변환\n",
        "traffic_accidents = pd.read_excel('/content/drive/MyDrive/seoul_data/노인교통사고.xlsx')\n",
        "traffic_accidents.to_csv('/content/drive/MyDrive/seoul_data/elderly_traffic_accidents.csv', index=False)  # CSV로 변환"
      ],
      "metadata": {
        "id": "LSrVZqIEUff4"
      },
      "execution_count": 38,
      "outputs": []
    },
    {
      "cell_type": "code",
      "source": [
        "# 2. crosswalk_grouped_cleaned.csv 파일 불러오기\n",
        "crosswalk_grouped = pd.read_csv('/content/drive/MyDrive/seoul_data/crosswalk_grouped_cleaned.csv')\n",
        "\n",
        "# 3. 두 파일을 '구_동' 열을 기준으로 합치기 (outer join)\n",
        "merged_data = pd.merge(traffic_accidents, crosswalk_grouped, on='구_동', how='outer')"
      ],
      "metadata": {
        "id": "y2dO5XP6DF7u"
      },
      "execution_count": 39,
      "outputs": []
    },
    {
      "cell_type": "code",
      "source": [
        "# 4. 서로 다른 '구_동' 이름 찾기\n",
        "traffic_accidents_gudong = set(traffic_accidents['구_동'].unique())\n",
        "crosswalk_grouped_gudong = set(crosswalk_grouped['구_동'].unique())\n",
        "\n",
        "# 노인교통사고 파일에만 있는 구_동\n",
        "only_in_traffic = traffic_accidents_gudong - crosswalk_grouped_gudong\n",
        "print(\"노인교통사고 파일에만 있는 구_동:\", only_in_traffic)\n",
        "\n",
        "# crosswalk_grouped_cleaned.csv 파일에만 있는 구_동\n",
        "only_in_crosswalk = crosswalk_grouped_gudong - traffic_accidents_gudong\n",
        "print(\"횡단보도 파일에만 있는 구_동:\", only_in_crosswalk)"
      ],
      "metadata": {
        "colab": {
          "base_uri": "https://localhost:8080/"
        },
        "id": "R-_vNqynDISh",
        "outputId": "f37397f8-6ebd-46aa-9901-cdc2afecad0a"
      },
      "execution_count": 40,
      "outputs": [
        {
          "output_type": "stream",
          "name": "stdout",
          "text": [
            "노인교통사고 파일에만 있는 구_동: {'종로구 익선동', '서대문구 냉천동', '서대문구 영천동', '서대문구 현저동', '서대문구 옥천동', '성북구 성북동1가', '강동구 강일동', '중구 명동1가'}\n",
            "횡단보도 파일에만 있는 구_동: {'마포구 당인동', '중구 광희동1가', '용산구 용산동6가', '종로구 평동', '중구 남대문1가', '종로구 도렴동', '종로구 무악동', '중구 태평로1가', '중구 의주로2가', '종로구 공평동', '광진구 노유동', '중구 무교동', '종로구 명륜4가', '영등포구 문래동4가', '강동구 하일동', '종로구 원남동', '마포구 구수동', '강남구 포이동', '종로구 통인동', '서대문구 대신동', '종로구 종로1가', '중구 남산동3가', '마포구 하중동', '중구 남대문로2가', '중구 남산동1가', '영등포구 문래동5가', '종로구 체부동', '중구 정동', '중구 장교동', '용산구 용산동3가', '성북구 안암동3가', '종로구 효자동', '중구 산림동', '중구 수하동', '종로구 관훈동', '종로구 운니동', '종로구 원서동', '중구 의주로1가', '종로구 송현동', '중구 다동', '종로구 경운동', '강서구 오쇠동', '종로구 교북동', '중구 입정동', '마포구 마포동', '서초구 원지동', '종로구 신문로1가', '종로구 필운동', '용산구 서빙고동', '종로구 당주동', '강서구 오곡동', '중구 저동2가', '종로구 연지동', '종로구 동숭동', '성북구 안암동2가', '종로구 옥인동', '은평구 구파발동', '종로구 중학동', '중구 충무로5가', '중구 저동1가', '중구 서소문동', '중구 충정로1가', '중구 남학동', '종로구 송월동', '종로구 훈정동', '용산구 청파동2가', '종로구 누상동', '용산구 남영동', '종로구 신교동', '성북구 보문동3가', '종로구 적선동', '중구 주자동', '중구 충무로2가', '종로구 내수동', '광진구 모진동', '용산구 용산동4가', '용산구 청파동1가', '중구 묵정동', '용산구 도원동', '중구 회현동3가', '종로구 교남동', '성북구 상월곡동', '마포구 신정동'}\n"
          ]
        }
      ]
    },
    {
      "cell_type": "code",
      "source": [
        "# 노인교통사고 파일에만 있는 구_동 목록\n",
        "only_in_traffic = traffic_accidents_gudong - crosswalk_grouped_gudong\n",
        "\n",
        "# 노인교통사고 파일에만 있는 구_동이 각각 몇 행을 가지고 있는지 계산\n",
        "only_in_traffic_counts = traffic_accidents[traffic_accidents['구_동'].isin(only_in_traffic)].groupby('구_동').size()\n",
        "\n",
        "# 결과 출력\n",
        "print(\"노인교통사고 파일에만 있는 구_동의 행 개수:\")\n",
        "print(only_in_traffic_counts)\n"
      ],
      "metadata": {
        "colab": {
          "base_uri": "https://localhost:8080/"
        },
        "id": "Bz8hG7uDDsIm",
        "outputId": "5e7ebc74-c988-4ca6-a38c-7a94b36f7b47"
      },
      "execution_count": 41,
      "outputs": [
        {
          "output_type": "stream",
          "name": "stdout",
          "text": [
            "노인교통사고 파일에만 있는 구_동의 행 개수:\n",
            "구_동\n",
            "강동구 강일동      9\n",
            "서대문구 냉천동     2\n",
            "서대문구 영천동     1\n",
            "서대문구 옥천동     2\n",
            "서대문구 현저동     3\n",
            "성북구 성북동1가    1\n",
            "종로구 익선동      1\n",
            "중구 명동1가      1\n",
            "dtype: int64\n"
          ]
        }
      ]
    },
    {
      "cell_type": "code",
      "source": [
        "# 각 구_동별로 몇 개의 행을 가지고 있는지 계산하고 내림차순으로 정렬\n",
        "gudong_counts = traffic_accidents.groupby('구_동').size().sort_values(ascending=False)\n",
        "\n",
        "# 결과 출력\n",
        "print(\"각 구_동별 행 개수 (내림차순 정렬):\")\n",
        "print(gudong_counts)\n",
        "\n",
        "# [인사이트]:노인교통사고 파일에만 있는 구_동 행의 개수는 크게 문제가 되지않을 것으로 보임. 지우겠음. 왜냐하면 어차피 지금 횡단보도 데이터에서 코드가 정확하지 않은 이슈가 있음."
      ],
      "metadata": {
        "colab": {
          "base_uri": "https://localhost:8080/"
        },
        "id": "XHE5ZFEPD-h2",
        "outputId": "50125be6-716d-49e3-8435-3e0fe916d22b"
      },
      "execution_count": 42,
      "outputs": [
        {
          "output_type": "stream",
          "name": "stdout",
          "text": [
            "각 구_동별 행 개수 (내림차순 정렬):\n",
            "구_동\n",
            "강서구 화곡동      136\n",
            "관악구 신림동      121\n",
            "중랑구 면목동      111\n",
            "강북구 미아동      106\n",
            "동대문구 제기동     100\n",
            "            ... \n",
            "용산구 문배동        1\n",
            "종로구 소격동        1\n",
            "서대문구 영천동       1\n",
            "종로구 팔판동        1\n",
            "성북구 보문동4가      1\n",
            "Length: 381, dtype: int64\n"
          ]
        }
      ]
    },
    {
      "cell_type": "code",
      "source": [
        "# 노인교통사고 파일에만 있는 구_동에 해당하는 행 제거\n",
        "traffic_accidents_cleaned = traffic_accidents[~traffic_accidents['구_동'].isin(only_in_traffic)]\n",
        "\n",
        "# 결과 출력\n",
        "print(\"노인교통사고 파일에만 있는 구_동 행 제거 후 데이터:\")\n",
        "print(traffic_accidents_cleaned.head())"
      ],
      "metadata": {
        "colab": {
          "base_uri": "https://localhost:8080/"
        },
        "id": "vfZsHWDpEiPA",
        "outputId": "3dd17c03-ff46-422a-b683-de769fd64e35"
      },
      "execution_count": 43,
      "outputs": [
        {
          "output_type": "stream",
          "name": "stdout",
          "text": [
            "노인교통사고 파일에만 있는 구_동 행 제거 후 데이터:\n",
            "               사고번호       구_동    년도  월  일  사고시간       사고일시    년월  사망자수  중상자수  \\\n",
            "0  2021010200100072  성북구 하월곡동  2021  1  2    11 2021-01-02  2101     0     1   \n",
            "1  2021010200100096   강북구 미아동  2021  1  2    12 2021-01-02  2101     0     0   \n",
            "2  2021010200100173   관악구 신림동  2021  1  2    14 2021-01-02  2101     0     1   \n",
            "3  2021010200100204   중랑구 중화동  2021  1  2    15 2021-01-02  2101     0     1   \n",
            "4  2021010200100205   강서구 화곡동  2021  1  2    15 2021-01-02  2101     0     0   \n",
            "\n",
            "   ...  사고유형  노면상태  기상상태  도로형태  도로형태상세  가해운전자 차종  피해운전자 성별  피해운전자 연령  \\\n",
            "0  ...     2     0     2     3       6        10         1        81   \n",
            "1  ...     4     0     2     1       4         8         0        81   \n",
            "2  ...     4     0     2     1       3         4         1        66   \n",
            "3  ...     0     0     2     3       6        10         0        66   \n",
            "4  ...     4     0     2     3       6         7         1        72   \n",
            "\n",
            "   피해운전자 연령_cat  피해운전자 상해정도  \n",
            "0           3.0           2  \n",
            "1           3.0           1  \n",
            "2           0.0           2  \n",
            "3           0.0           2  \n",
            "4           1.0           1  \n",
            "\n",
            "[5 rows x 23 columns]\n"
          ]
        }
      ]
    },
    {
      "cell_type": "code",
      "source": [
        "# 두 파일을 '구_동' 열을 기준으로 outer join으로 다시 병합\n",
        "merged_data = pd.merge(traffic_accidents_cleaned, crosswalk_grouped, on='구_동', how='outer')\n",
        "\n",
        "# 결과 출력\n",
        "print(\"노인교통사고 파일과 횡단보도 파일을 병합한 데이터:\")\n",
        "print(merged_data.head())"
      ],
      "metadata": {
        "colab": {
          "base_uri": "https://localhost:8080/"
        },
        "id": "TKfNQUzLIpSw",
        "outputId": "3205f783-f642-4aff-d6c0-c5f17a391f87"
      },
      "execution_count": 45,
      "outputs": [
        {
          "output_type": "stream",
          "name": "stdout",
          "text": [
            "노인교통사고 파일과 횡단보도 파일을 병합한 데이터:\n",
            "           사고번호       구_동      년도    월     일  사고시간       사고일시      년월  사망자수  \\\n",
            "0  2.021010e+15  성북구 하월곡동  2021.0  1.0   2.0  11.0 2021-01-02  2101.0   0.0   \n",
            "1  2.021011e+15  성북구 하월곡동  2021.0  1.0   5.0  10.0 2021-01-05  2101.0   0.0   \n",
            "2  2.021012e+15  성북구 하월곡동  2021.0  1.0  19.0  14.0 2021-01-19  2101.0   0.0   \n",
            "3  2.021041e+15  성북구 하월곡동  2021.0  4.0  13.0   6.0 2021-04-13  2104.0   0.0   \n",
            "4  2.021042e+15  성북구 하월곡동  2021.0  4.0  19.0  18.0 2021-04-19  2104.0   0.0   \n",
            "\n",
            "   중상자수  ...  공사_1  공사_2  공사_3  공사_4  공사_5  공사_6  공사_8  공사_9  공사_10  횡단보도_개수  \n",
            "0   1.0  ...   105     0     5    91   360     0     0     0     48      609  \n",
            "1   1.0  ...   105     0     5    91   360     0     0     0     48      609  \n",
            "2   0.0  ...   105     0     5    91   360     0     0     0     48      609  \n",
            "3   1.0  ...   105     0     5    91   360     0     0     0     48      609  \n",
            "4   0.0  ...   105     0     5    91   360     0     0     0     48      609  \n",
            "\n",
            "[5 rows x 41 columns]\n"
          ]
        }
      ]
    },
    {
      "cell_type": "code",
      "source": [
        "print(merged_data.columns)\n",
        "merged_data.describe()"
      ],
      "metadata": {
        "colab": {
          "base_uri": "https://localhost:8080/",
          "height": 575
        },
        "id": "9XMYJFIRIsmY",
        "outputId": "cf5991f0-605d-4b47-add9-d0c572e9b692"
      },
      "execution_count": 47,
      "outputs": [
        {
          "output_type": "stream",
          "name": "stdout",
          "text": [
            "Index(['사고번호', '구_동', '년도', '월', '일', '사고시간', '사고일시', '년월', '사망자수', '중상자수',\n",
            "       '경상자수', '부상신고자수', '사상자수', '사고유형', '노면상태', '기상상태', '도로형태', '도로형태상세',\n",
            "       '가해운전자 차종', '피해운전자 성별', '피해운전자 연령', '피해운전자 연령_cat', '피해운전자 상해정도',\n",
            "       '상태_양호', '상태_파손', '상태_도색', '상태_노후', '종류_1', '종류_2', '종류_3', '종류_4',\n",
            "       '공사_1', '공사_2', '공사_3', '공사_4', '공사_5', '공사_6', '공사_8', '공사_9', '공사_10',\n",
            "       '횡단보도_개수'],\n",
            "      dtype='object')\n"
          ]
        },
        {
          "output_type": "execute_result",
          "data": {
            "text/plain": [
              "               사고번호           년도            월            일         사고시간  \\\n",
              "count  5.449000e+03  5449.000000  5449.000000  5449.000000  5449.000000   \n",
              "mean   2.022115e+15  2022.046247     6.688383    15.641769    13.326849   \n",
              "min    2.021010e+15  2021.000000     1.000000     1.000000     0.000000   \n",
              "25%    2.021102e+15  2021.000000     4.000000     8.000000    10.000000   \n",
              "50%    2.022073e+15  2022.000000     7.000000    16.000000    13.000000   \n",
              "75%    2.023043e+15  2023.000000    10.000000    23.000000    17.000000   \n",
              "max    2.023123e+15  2023.000000    12.000000    31.000000    23.000000   \n",
              "std    8.162304e+11     0.814510     3.433576     8.752205     4.770636   \n",
              "\n",
              "                                사고일시           년월         사망자수         중상자수  \\\n",
              "count                           5449  5449.000000  5449.000000  5449.000000   \n",
              "mean   2022-07-23 17:43:09.172325120  2211.313085     0.032300     0.512938   \n",
              "min              2021-01-02 00:00:00  2101.000000     0.000000     0.000000   \n",
              "25%              2021-10-23 00:00:00  2110.000000     0.000000     0.000000   \n",
              "50%              2022-07-31 00:00:00  2207.000000     0.000000     1.000000   \n",
              "75%              2023-04-29 00:00:00  2304.000000     0.000000     1.000000   \n",
              "max              2023-12-31 00:00:00  2312.000000     2.000000     6.000000   \n",
              "std                              NaN    81.622443     0.178875     0.524604   \n",
              "\n",
              "              경상자수  ...         공사_1         공사_2         공사_3         공사_4  \\\n",
              "count  5449.000000  ...  5532.000000  5532.000000  5532.000000  5532.000000   \n",
              "mean      0.451643  ...   103.701193     0.100687    19.263377   138.057484   \n",
              "min       0.000000  ...     0.000000     0.000000     0.000000     0.000000   \n",
              "25%       0.000000  ...    30.000000     0.000000     8.000000    59.000000   \n",
              "50%       0.000000  ...    82.000000     0.000000    17.000000   121.000000   \n",
              "75%       1.000000  ...   139.000000     0.000000    29.000000   182.000000   \n",
              "max       9.000000  ...   462.000000     3.000000    61.000000   463.000000   \n",
              "std       0.563759  ...    95.603462     0.447359    13.938116   103.435347   \n",
              "\n",
              "              공사_5        공사_6         공사_8         공사_9        공사_10  \\\n",
              "count  5532.000000  5532.00000  5532.000000  5532.000000  5532.000000   \n",
              "mean    398.423536     0.35846     0.005965     1.897144    28.825560   \n",
              "min       0.000000     0.00000     0.000000     0.000000     0.000000   \n",
              "25%     198.000000     0.00000     0.000000     0.000000     6.000000   \n",
              "50%     329.000000     0.00000     0.000000     0.000000    17.000000   \n",
              "75%     587.000000     0.00000     0.000000     0.000000    36.000000   \n",
              "max    1364.000000     6.00000     3.000000    72.000000   214.000000   \n",
              "std     289.203199     1.10571     0.133654     7.850949    33.992679   \n",
              "\n",
              "           횡단보도_개수  \n",
              "count  5532.000000  \n",
              "mean    690.633406  \n",
              "min       1.000000  \n",
              "25%     351.000000  \n",
              "50%     584.000000  \n",
              "75%     959.000000  \n",
              "max    1946.000000  \n",
              "std     475.288904  \n",
              "\n",
              "[8 rows x 39 columns]"
            ],
            "text/html": [
              "\n",
              "  <div id=\"df-4efe4268-7727-4e12-afe0-854bd66fdce9\" class=\"colab-df-container\">\n",
              "    <div>\n",
              "<style scoped>\n",
              "    .dataframe tbody tr th:only-of-type {\n",
              "        vertical-align: middle;\n",
              "    }\n",
              "\n",
              "    .dataframe tbody tr th {\n",
              "        vertical-align: top;\n",
              "    }\n",
              "\n",
              "    .dataframe thead th {\n",
              "        text-align: right;\n",
              "    }\n",
              "</style>\n",
              "<table border=\"1\" class=\"dataframe\">\n",
              "  <thead>\n",
              "    <tr style=\"text-align: right;\">\n",
              "      <th></th>\n",
              "      <th>사고번호</th>\n",
              "      <th>년도</th>\n",
              "      <th>월</th>\n",
              "      <th>일</th>\n",
              "      <th>사고시간</th>\n",
              "      <th>사고일시</th>\n",
              "      <th>년월</th>\n",
              "      <th>사망자수</th>\n",
              "      <th>중상자수</th>\n",
              "      <th>경상자수</th>\n",
              "      <th>...</th>\n",
              "      <th>공사_1</th>\n",
              "      <th>공사_2</th>\n",
              "      <th>공사_3</th>\n",
              "      <th>공사_4</th>\n",
              "      <th>공사_5</th>\n",
              "      <th>공사_6</th>\n",
              "      <th>공사_8</th>\n",
              "      <th>공사_9</th>\n",
              "      <th>공사_10</th>\n",
              "      <th>횡단보도_개수</th>\n",
              "    </tr>\n",
              "  </thead>\n",
              "  <tbody>\n",
              "    <tr>\n",
              "      <th>count</th>\n",
              "      <td>5.449000e+03</td>\n",
              "      <td>5449.000000</td>\n",
              "      <td>5449.000000</td>\n",
              "      <td>5449.000000</td>\n",
              "      <td>5449.000000</td>\n",
              "      <td>5449</td>\n",
              "      <td>5449.000000</td>\n",
              "      <td>5449.000000</td>\n",
              "      <td>5449.000000</td>\n",
              "      <td>5449.000000</td>\n",
              "      <td>...</td>\n",
              "      <td>5532.000000</td>\n",
              "      <td>5532.000000</td>\n",
              "      <td>5532.000000</td>\n",
              "      <td>5532.000000</td>\n",
              "      <td>5532.000000</td>\n",
              "      <td>5532.00000</td>\n",
              "      <td>5532.000000</td>\n",
              "      <td>5532.000000</td>\n",
              "      <td>5532.000000</td>\n",
              "      <td>5532.000000</td>\n",
              "    </tr>\n",
              "    <tr>\n",
              "      <th>mean</th>\n",
              "      <td>2.022115e+15</td>\n",
              "      <td>2022.046247</td>\n",
              "      <td>6.688383</td>\n",
              "      <td>15.641769</td>\n",
              "      <td>13.326849</td>\n",
              "      <td>2022-07-23 17:43:09.172325120</td>\n",
              "      <td>2211.313085</td>\n",
              "      <td>0.032300</td>\n",
              "      <td>0.512938</td>\n",
              "      <td>0.451643</td>\n",
              "      <td>...</td>\n",
              "      <td>103.701193</td>\n",
              "      <td>0.100687</td>\n",
              "      <td>19.263377</td>\n",
              "      <td>138.057484</td>\n",
              "      <td>398.423536</td>\n",
              "      <td>0.35846</td>\n",
              "      <td>0.005965</td>\n",
              "      <td>1.897144</td>\n",
              "      <td>28.825560</td>\n",
              "      <td>690.633406</td>\n",
              "    </tr>\n",
              "    <tr>\n",
              "      <th>min</th>\n",
              "      <td>2.021010e+15</td>\n",
              "      <td>2021.000000</td>\n",
              "      <td>1.000000</td>\n",
              "      <td>1.000000</td>\n",
              "      <td>0.000000</td>\n",
              "      <td>2021-01-02 00:00:00</td>\n",
              "      <td>2101.000000</td>\n",
              "      <td>0.000000</td>\n",
              "      <td>0.000000</td>\n",
              "      <td>0.000000</td>\n",
              "      <td>...</td>\n",
              "      <td>0.000000</td>\n",
              "      <td>0.000000</td>\n",
              "      <td>0.000000</td>\n",
              "      <td>0.000000</td>\n",
              "      <td>0.000000</td>\n",
              "      <td>0.00000</td>\n",
              "      <td>0.000000</td>\n",
              "      <td>0.000000</td>\n",
              "      <td>0.000000</td>\n",
              "      <td>1.000000</td>\n",
              "    </tr>\n",
              "    <tr>\n",
              "      <th>25%</th>\n",
              "      <td>2.021102e+15</td>\n",
              "      <td>2021.000000</td>\n",
              "      <td>4.000000</td>\n",
              "      <td>8.000000</td>\n",
              "      <td>10.000000</td>\n",
              "      <td>2021-10-23 00:00:00</td>\n",
              "      <td>2110.000000</td>\n",
              "      <td>0.000000</td>\n",
              "      <td>0.000000</td>\n",
              "      <td>0.000000</td>\n",
              "      <td>...</td>\n",
              "      <td>30.000000</td>\n",
              "      <td>0.000000</td>\n",
              "      <td>8.000000</td>\n",
              "      <td>59.000000</td>\n",
              "      <td>198.000000</td>\n",
              "      <td>0.00000</td>\n",
              "      <td>0.000000</td>\n",
              "      <td>0.000000</td>\n",
              "      <td>6.000000</td>\n",
              "      <td>351.000000</td>\n",
              "    </tr>\n",
              "    <tr>\n",
              "      <th>50%</th>\n",
              "      <td>2.022073e+15</td>\n",
              "      <td>2022.000000</td>\n",
              "      <td>7.000000</td>\n",
              "      <td>16.000000</td>\n",
              "      <td>13.000000</td>\n",
              "      <td>2022-07-31 00:00:00</td>\n",
              "      <td>2207.000000</td>\n",
              "      <td>0.000000</td>\n",
              "      <td>1.000000</td>\n",
              "      <td>0.000000</td>\n",
              "      <td>...</td>\n",
              "      <td>82.000000</td>\n",
              "      <td>0.000000</td>\n",
              "      <td>17.000000</td>\n",
              "      <td>121.000000</td>\n",
              "      <td>329.000000</td>\n",
              "      <td>0.00000</td>\n",
              "      <td>0.000000</td>\n",
              "      <td>0.000000</td>\n",
              "      <td>17.000000</td>\n",
              "      <td>584.000000</td>\n",
              "    </tr>\n",
              "    <tr>\n",
              "      <th>75%</th>\n",
              "      <td>2.023043e+15</td>\n",
              "      <td>2023.000000</td>\n",
              "      <td>10.000000</td>\n",
              "      <td>23.000000</td>\n",
              "      <td>17.000000</td>\n",
              "      <td>2023-04-29 00:00:00</td>\n",
              "      <td>2304.000000</td>\n",
              "      <td>0.000000</td>\n",
              "      <td>1.000000</td>\n",
              "      <td>1.000000</td>\n",
              "      <td>...</td>\n",
              "      <td>139.000000</td>\n",
              "      <td>0.000000</td>\n",
              "      <td>29.000000</td>\n",
              "      <td>182.000000</td>\n",
              "      <td>587.000000</td>\n",
              "      <td>0.00000</td>\n",
              "      <td>0.000000</td>\n",
              "      <td>0.000000</td>\n",
              "      <td>36.000000</td>\n",
              "      <td>959.000000</td>\n",
              "    </tr>\n",
              "    <tr>\n",
              "      <th>max</th>\n",
              "      <td>2.023123e+15</td>\n",
              "      <td>2023.000000</td>\n",
              "      <td>12.000000</td>\n",
              "      <td>31.000000</td>\n",
              "      <td>23.000000</td>\n",
              "      <td>2023-12-31 00:00:00</td>\n",
              "      <td>2312.000000</td>\n",
              "      <td>2.000000</td>\n",
              "      <td>6.000000</td>\n",
              "      <td>9.000000</td>\n",
              "      <td>...</td>\n",
              "      <td>462.000000</td>\n",
              "      <td>3.000000</td>\n",
              "      <td>61.000000</td>\n",
              "      <td>463.000000</td>\n",
              "      <td>1364.000000</td>\n",
              "      <td>6.00000</td>\n",
              "      <td>3.000000</td>\n",
              "      <td>72.000000</td>\n",
              "      <td>214.000000</td>\n",
              "      <td>1946.000000</td>\n",
              "    </tr>\n",
              "    <tr>\n",
              "      <th>std</th>\n",
              "      <td>8.162304e+11</td>\n",
              "      <td>0.814510</td>\n",
              "      <td>3.433576</td>\n",
              "      <td>8.752205</td>\n",
              "      <td>4.770636</td>\n",
              "      <td>NaN</td>\n",
              "      <td>81.622443</td>\n",
              "      <td>0.178875</td>\n",
              "      <td>0.524604</td>\n",
              "      <td>0.563759</td>\n",
              "      <td>...</td>\n",
              "      <td>95.603462</td>\n",
              "      <td>0.447359</td>\n",
              "      <td>13.938116</td>\n",
              "      <td>103.435347</td>\n",
              "      <td>289.203199</td>\n",
              "      <td>1.10571</td>\n",
              "      <td>0.133654</td>\n",
              "      <td>7.850949</td>\n",
              "      <td>33.992679</td>\n",
              "      <td>475.288904</td>\n",
              "    </tr>\n",
              "  </tbody>\n",
              "</table>\n",
              "<p>8 rows × 39 columns</p>\n",
              "</div>\n",
              "    <div class=\"colab-df-buttons\">\n",
              "\n",
              "  <div class=\"colab-df-container\">\n",
              "    <button class=\"colab-df-convert\" onclick=\"convertToInteractive('df-4efe4268-7727-4e12-afe0-854bd66fdce9')\"\n",
              "            title=\"Convert this dataframe to an interactive table.\"\n",
              "            style=\"display:none;\">\n",
              "\n",
              "  <svg xmlns=\"http://www.w3.org/2000/svg\" height=\"24px\" viewBox=\"0 -960 960 960\">\n",
              "    <path d=\"M120-120v-720h720v720H120Zm60-500h600v-160H180v160Zm220 220h160v-160H400v160Zm0 220h160v-160H400v160ZM180-400h160v-160H180v160Zm440 0h160v-160H620v160ZM180-180h160v-160H180v160Zm440 0h160v-160H620v160Z\"/>\n",
              "  </svg>\n",
              "    </button>\n",
              "\n",
              "  <style>\n",
              "    .colab-df-container {\n",
              "      display:flex;\n",
              "      gap: 12px;\n",
              "    }\n",
              "\n",
              "    .colab-df-convert {\n",
              "      background-color: #E8F0FE;\n",
              "      border: none;\n",
              "      border-radius: 50%;\n",
              "      cursor: pointer;\n",
              "      display: none;\n",
              "      fill: #1967D2;\n",
              "      height: 32px;\n",
              "      padding: 0 0 0 0;\n",
              "      width: 32px;\n",
              "    }\n",
              "\n",
              "    .colab-df-convert:hover {\n",
              "      background-color: #E2EBFA;\n",
              "      box-shadow: 0px 1px 2px rgba(60, 64, 67, 0.3), 0px 1px 3px 1px rgba(60, 64, 67, 0.15);\n",
              "      fill: #174EA6;\n",
              "    }\n",
              "\n",
              "    .colab-df-buttons div {\n",
              "      margin-bottom: 4px;\n",
              "    }\n",
              "\n",
              "    [theme=dark] .colab-df-convert {\n",
              "      background-color: #3B4455;\n",
              "      fill: #D2E3FC;\n",
              "    }\n",
              "\n",
              "    [theme=dark] .colab-df-convert:hover {\n",
              "      background-color: #434B5C;\n",
              "      box-shadow: 0px 1px 3px 1px rgba(0, 0, 0, 0.15);\n",
              "      filter: drop-shadow(0px 1px 2px rgba(0, 0, 0, 0.3));\n",
              "      fill: #FFFFFF;\n",
              "    }\n",
              "  </style>\n",
              "\n",
              "    <script>\n",
              "      const buttonEl =\n",
              "        document.querySelector('#df-4efe4268-7727-4e12-afe0-854bd66fdce9 button.colab-df-convert');\n",
              "      buttonEl.style.display =\n",
              "        google.colab.kernel.accessAllowed ? 'block' : 'none';\n",
              "\n",
              "      async function convertToInteractive(key) {\n",
              "        const element = document.querySelector('#df-4efe4268-7727-4e12-afe0-854bd66fdce9');\n",
              "        const dataTable =\n",
              "          await google.colab.kernel.invokeFunction('convertToInteractive',\n",
              "                                                    [key], {});\n",
              "        if (!dataTable) return;\n",
              "\n",
              "        const docLinkHtml = 'Like what you see? Visit the ' +\n",
              "          '<a target=\"_blank\" href=https://colab.research.google.com/notebooks/data_table.ipynb>data table notebook</a>'\n",
              "          + ' to learn more about interactive tables.';\n",
              "        element.innerHTML = '';\n",
              "        dataTable['output_type'] = 'display_data';\n",
              "        await google.colab.output.renderOutput(dataTable, element);\n",
              "        const docLink = document.createElement('div');\n",
              "        docLink.innerHTML = docLinkHtml;\n",
              "        element.appendChild(docLink);\n",
              "      }\n",
              "    </script>\n",
              "  </div>\n",
              "\n",
              "\n",
              "<div id=\"df-c148f569-8efd-460a-a879-621b581a39c1\">\n",
              "  <button class=\"colab-df-quickchart\" onclick=\"quickchart('df-c148f569-8efd-460a-a879-621b581a39c1')\"\n",
              "            title=\"Suggest charts\"\n",
              "            style=\"display:none;\">\n",
              "\n",
              "<svg xmlns=\"http://www.w3.org/2000/svg\" height=\"24px\"viewBox=\"0 0 24 24\"\n",
              "     width=\"24px\">\n",
              "    <g>\n",
              "        <path d=\"M19 3H5c-1.1 0-2 .9-2 2v14c0 1.1.9 2 2 2h14c1.1 0 2-.9 2-2V5c0-1.1-.9-2-2-2zM9 17H7v-7h2v7zm4 0h-2V7h2v10zm4 0h-2v-4h2v4z\"/>\n",
              "    </g>\n",
              "</svg>\n",
              "  </button>\n",
              "\n",
              "<style>\n",
              "  .colab-df-quickchart {\n",
              "      --bg-color: #E8F0FE;\n",
              "      --fill-color: #1967D2;\n",
              "      --hover-bg-color: #E2EBFA;\n",
              "      --hover-fill-color: #174EA6;\n",
              "      --disabled-fill-color: #AAA;\n",
              "      --disabled-bg-color: #DDD;\n",
              "  }\n",
              "\n",
              "  [theme=dark] .colab-df-quickchart {\n",
              "      --bg-color: #3B4455;\n",
              "      --fill-color: #D2E3FC;\n",
              "      --hover-bg-color: #434B5C;\n",
              "      --hover-fill-color: #FFFFFF;\n",
              "      --disabled-bg-color: #3B4455;\n",
              "      --disabled-fill-color: #666;\n",
              "  }\n",
              "\n",
              "  .colab-df-quickchart {\n",
              "    background-color: var(--bg-color);\n",
              "    border: none;\n",
              "    border-radius: 50%;\n",
              "    cursor: pointer;\n",
              "    display: none;\n",
              "    fill: var(--fill-color);\n",
              "    height: 32px;\n",
              "    padding: 0;\n",
              "    width: 32px;\n",
              "  }\n",
              "\n",
              "  .colab-df-quickchart:hover {\n",
              "    background-color: var(--hover-bg-color);\n",
              "    box-shadow: 0 1px 2px rgba(60, 64, 67, 0.3), 0 1px 3px 1px rgba(60, 64, 67, 0.15);\n",
              "    fill: var(--button-hover-fill-color);\n",
              "  }\n",
              "\n",
              "  .colab-df-quickchart-complete:disabled,\n",
              "  .colab-df-quickchart-complete:disabled:hover {\n",
              "    background-color: var(--disabled-bg-color);\n",
              "    fill: var(--disabled-fill-color);\n",
              "    box-shadow: none;\n",
              "  }\n",
              "\n",
              "  .colab-df-spinner {\n",
              "    border: 2px solid var(--fill-color);\n",
              "    border-color: transparent;\n",
              "    border-bottom-color: var(--fill-color);\n",
              "    animation:\n",
              "      spin 1s steps(1) infinite;\n",
              "  }\n",
              "\n",
              "  @keyframes spin {\n",
              "    0% {\n",
              "      border-color: transparent;\n",
              "      border-bottom-color: var(--fill-color);\n",
              "      border-left-color: var(--fill-color);\n",
              "    }\n",
              "    20% {\n",
              "      border-color: transparent;\n",
              "      border-left-color: var(--fill-color);\n",
              "      border-top-color: var(--fill-color);\n",
              "    }\n",
              "    30% {\n",
              "      border-color: transparent;\n",
              "      border-left-color: var(--fill-color);\n",
              "      border-top-color: var(--fill-color);\n",
              "      border-right-color: var(--fill-color);\n",
              "    }\n",
              "    40% {\n",
              "      border-color: transparent;\n",
              "      border-right-color: var(--fill-color);\n",
              "      border-top-color: var(--fill-color);\n",
              "    }\n",
              "    60% {\n",
              "      border-color: transparent;\n",
              "      border-right-color: var(--fill-color);\n",
              "    }\n",
              "    80% {\n",
              "      border-color: transparent;\n",
              "      border-right-color: var(--fill-color);\n",
              "      border-bottom-color: var(--fill-color);\n",
              "    }\n",
              "    90% {\n",
              "      border-color: transparent;\n",
              "      border-bottom-color: var(--fill-color);\n",
              "    }\n",
              "  }\n",
              "</style>\n",
              "\n",
              "  <script>\n",
              "    async function quickchart(key) {\n",
              "      const quickchartButtonEl =\n",
              "        document.querySelector('#' + key + ' button');\n",
              "      quickchartButtonEl.disabled = true;  // To prevent multiple clicks.\n",
              "      quickchartButtonEl.classList.add('colab-df-spinner');\n",
              "      try {\n",
              "        const charts = await google.colab.kernel.invokeFunction(\n",
              "            'suggestCharts', [key], {});\n",
              "      } catch (error) {\n",
              "        console.error('Error during call to suggestCharts:', error);\n",
              "      }\n",
              "      quickchartButtonEl.classList.remove('colab-df-spinner');\n",
              "      quickchartButtonEl.classList.add('colab-df-quickchart-complete');\n",
              "    }\n",
              "    (() => {\n",
              "      let quickchartButtonEl =\n",
              "        document.querySelector('#df-c148f569-8efd-460a-a879-621b581a39c1 button');\n",
              "      quickchartButtonEl.style.display =\n",
              "        google.colab.kernel.accessAllowed ? 'block' : 'none';\n",
              "    })();\n",
              "  </script>\n",
              "</div>\n",
              "\n",
              "    </div>\n",
              "  </div>\n"
            ],
            "application/vnd.google.colaboratory.intrinsic+json": {
              "type": "dataframe"
            }
          },
          "metadata": {},
          "execution_count": 47
        }
      ]
    },
    {
      "cell_type": "code",
      "source": [
        "# 각 구_동별 교통사고 건수 계산\n",
        "merged_data['교통사고_건수'] = merged_data.groupby('구_동')['구_동'].transform('size')\n",
        "\n",
        "# 결과 출력\n",
        "print(merged_data[['구_동', '교통사고_건수']].drop_duplicates().head())\n"
      ],
      "metadata": {
        "colab": {
          "base_uri": "https://localhost:8080/"
        },
        "id": "bc-06JotMGFw",
        "outputId": "fabb8c80-451d-456d-d4a2-077f01c614d0"
      },
      "execution_count": 51,
      "outputs": [
        {
          "output_type": "stream",
          "name": "stdout",
          "text": [
            "          구_동  교통사고_건수\n",
            "0    성북구 하월곡동       36\n",
            "36    강북구 미아동      106\n",
            "142   관악구 신림동      121\n",
            "263   중랑구 중화동       43\n",
            "306   강서구 화곡동      136\n"
          ]
        }
      ]
    },
    {
      "cell_type": "markdown",
      "source": [
        "### 2-1. 교통사고가 없는 지역 행을 따로 추출하고 제거"
      ],
      "metadata": {
        "id": "4gIV7R23LApq"
      }
    },
    {
      "cell_type": "code",
      "source": [
        "# 교통사고 관련 열을 확인하여 모든 값이 NA인 경우 필터링\n",
        "accident_columns = ['사고번호', '년도', '월', '일', '사고시간', '사고일시', '년월',\n",
        "                    '사망자수', '중상자수', '경상자수', '부상신고자수', '사상자수',\n",
        "                    '사고유형', '노면상태', '기상상태', '도로형태', '도로형태상세',\n",
        "                    '가해운전자 차종', '피해운전자 성별', '피해운전자 연령',\n",
        "                    '피해운전자 연령_cat', '피해운전자 상해정도']\n",
        "\n",
        "non_accident_crossroad_columns = ['상태_양호', '상태_파손', '상태_도색', '상태_노후',\n",
        "                        '종류_1', '종류_2', '종류_3', '종류_4',\n",
        "                        '공사_1', '공사_2', '공사_3', '공사_4', '공사_5', '공사_6',\n",
        "                        '공사_8', '공사_9', '공사_10', '횡단보도_개수']\n",
        "\n",
        "# 교통사고 관련 열은 NA지만, 상태/종류/공사 관련 열에 값이 있는 행 필터링\n",
        "non_accident_rows = merged_data[merged_data[accident_columns].isna().all(axis=1) &\n",
        "                                merged_data[non_accident_crossroad_columns].notna().any(axis=1)]\n",
        "\n",
        "# 그 행들의 개수 출력\n",
        "print(f\"교통사고가 없는 지역 행 개수: {len(non_accident_rows)}\")\n",
        "\n",
        "# 교통사고가 없는 지역을 CSV로 저장\n",
        "non_accident_rows.to_csv('/content/drive/MyDrive/seoul_data/non_accident_areas.csv', index=False)\n",
        "\n",
        "# 교통사고가 없는 지역을 merged_data에서 제거\n",
        "merged_data = merged_data.drop(non_accident_rows.index)\n",
        "\n",
        "# 행 개수 출력\n",
        "print(f\"교통사고가 없는 지역을 제거한 후의 행 개수: {len(merged_data)}\")\n"
      ],
      "metadata": {
        "colab": {
          "base_uri": "https://localhost:8080/"
        },
        "id": "Ed3lWV8FMh8-",
        "outputId": "05a3f360-e826-41fe-b753-5f606be2fc5c"
      },
      "execution_count": 52,
      "outputs": [
        {
          "output_type": "stream",
          "name": "stdout",
          "text": [
            "교통사고가 없는 지역 행 개수: 83\n",
            "교통사고가 없는 지역을 제거한 후의 행 개수: 5449\n"
          ]
        }
      ]
    },
    {
      "cell_type": "code",
      "source": [
        "# 각각의 열에 NA 값이 있는지 확인\n",
        "na_counts = merged_data.isna().sum()\n",
        "# 피해운전자 연령_cat이 NaN인 행을 삭제\n",
        "merged_data_cleaned = merged_data.dropna(subset=['피해운전자 연령_cat'])\n",
        "\n",
        "# 삭제 후 데이터 개수 출력\n",
        "print(f\"피해운전자 연령_cat 결측치가 있는 행을 삭제한 후의 행 개수: {len(merged_data_cleaned)}\")"
      ],
      "metadata": {
        "colab": {
          "base_uri": "https://localhost:8080/"
        },
        "id": "6SIUuf_BM-yR",
        "outputId": "5d9186c2-a8aa-40c9-caab-c8a5eb416a3d"
      },
      "execution_count": 54,
      "outputs": [
        {
          "output_type": "stream",
          "name": "stdout",
          "text": [
            "피해운전자 연령_cat 결측치가 있는 행을 삭제한 후의 행 개수: 5410\n"
          ]
        }
      ]
    },
    {
      "cell_type": "markdown",
      "source": [
        "🤔 5410개의 데이테가 군집화 및 예측 모델링 수행하는 데 충분한 크기의 데이터셋일까?\n",
        "<br>\n",
        "➡️ 충분히 사용할 수 있는 크기이다. K-Means는 상대적으로 작은 데이터셋에서 잘 작동한다.\n",
        "<br>\n",
        "➡️ 대신 특성수가 너무 많으면 군집화 성능이 떨어지니까 차원축소를 잘해야 한다."
      ],
      "metadata": {
        "id": "gpwfb9OqOeM_"
      }
    },
    {
      "cell_type": "markdown",
      "source": [
        "## 3. Min-Max 정규화\n",
        "- 변수들의 범위가 매우 다를 때, 특히 모든 값이 양수일 때 min-max 정규화를 사용하면 각 변수를 동일한 범위로 맞출 수 있어서 모델 학습에 더 적합해진다.\n",
        "`예) 사상자수는 1 ~ 11사이의 값인데, 횡단보도개수는 1 ~ 2139개와 같이 큰 차이가 있기에 각 변수를 0~1 사이로 변환`"
      ],
      "metadata": {
        "id": "NH_-7kZnYUfd"
      }
    },
    {
      "cell_type": "code",
      "source": [
        "# 어떤 변수가 있는지 보자!\n",
        "merged_data_cleaned.columns"
      ],
      "metadata": {
        "colab": {
          "base_uri": "https://localhost:8080/"
        },
        "id": "0HcnZsBIC_QQ",
        "outputId": "a0901a67-25c4-4edc-e07e-bdd1864d6445"
      },
      "execution_count": 55,
      "outputs": [
        {
          "output_type": "execute_result",
          "data": {
            "text/plain": [
              "Index(['사고번호', '구_동', '년도', '월', '일', '사고시간', '사고일시', '년월', '사망자수', '중상자수',\n",
              "       '경상자수', '부상신고자수', '사상자수', '사고유형', '노면상태', '기상상태', '도로형태', '도로형태상세',\n",
              "       '가해운전자 차종', '피해운전자 성별', '피해운전자 연령', '피해운전자 연령_cat', '피해운전자 상해정도',\n",
              "       '상태_양호', '상태_파손', '상태_도색', '상태_노후', '종류_1', '종류_2', '종류_3', '종류_4',\n",
              "       '공사_1', '공사_2', '공사_3', '공사_4', '공사_5', '공사_6', '공사_8', '공사_9', '공사_10',\n",
              "       '횡단보도_개수', '교통사고_건수'],\n",
              "      dtype='object')"
            ]
          },
          "metadata": {},
          "execution_count": 55
        }
      ]
    },
    {
      "cell_type": "code",
      "source": [
        "# '피해운전자 연령'이 '12이하'인 행을 제거\n",
        "merged_data_cleaned = merged_data_cleaned[merged_data_cleaned['피해운전자 연령'] != '12 이하']"
      ],
      "metadata": {
        "id": "FQhrCOD5TiJA"
      },
      "execution_count": 64,
      "outputs": []
    },
    {
      "cell_type": "code",
      "source": [
        "# 결과 확인\n",
        "print(f\"'12이하' 연령의 행을 제거한 후의 데이터 크기: {len(merged_data_cleaned)}\")"
      ],
      "metadata": {
        "colab": {
          "base_uri": "https://localhost:8080/"
        },
        "id": "8nYQPETPTva-",
        "outputId": "626a7cb4-df47-47e5-cdcd-9763055f63c6"
      },
      "execution_count": 65,
      "outputs": [
        {
          "output_type": "stream",
          "name": "stdout",
          "text": [
            "'12이하' 연령의 행을 제거한 후의 데이터 크기: 5408\n"
          ]
        }
      ]
    },
    {
      "cell_type": "code",
      "source": [
        "# 범주형 변수 목록\n",
        "categorical_columns = [\n",
        "    '사고유형', '노면상태', '기상상태', '도로형태', '도로형태상세',\n",
        "    '가해운전자 차종', '피해운전자 성별', '피해운전자 연령_cat', '구_동'\n",
        "]\n",
        "\n",
        "# 각 범주형 변수에 대해 범주별 개수 출력\n",
        "for col in categorical_columns:\n",
        "    value_counts = merged_data_cleaned[col].value_counts()\n",
        "    print(f\"\\n{col}의 각 범주별 개수:\")\n",
        "    print(merged_data_cleaned[col].value_counts())\n",
        "    # 각 범주 개수의 총합 출력\n",
        "    total_count = value_counts.sum()\n",
        "    print(f\"{col}의 범주별 개수의 총합: {total_count}\")"
      ],
      "metadata": {
        "colab": {
          "base_uri": "https://localhost:8080/"
        },
        "id": "6FvmHls8T4Mv",
        "outputId": "2f936f8e-406c-4d07-9f99-0fae95332807"
      },
      "execution_count": 66,
      "outputs": [
        {
          "output_type": "stream",
          "name": "stdout",
          "text": [
            "\n",
            "사고유형의 각 범주별 개수:\n",
            "사고유형\n",
            "0.0    2312\n",
            "4.0    1757\n",
            "3.0     646\n",
            "2.0     417\n",
            "1.0     276\n",
            "Name: count, dtype: int64\n",
            "사고유형의 범주별 개수의 총합: 5408\n",
            "\n",
            "노면상태의 각 범주별 개수:\n",
            "노면상태\n",
            "0.0    4884\n",
            "4.0     426\n",
            "1.0      72\n",
            "2.0      17\n",
            "3.0       6\n",
            "5.0       2\n",
            "6.0       1\n",
            "Name: count, dtype: int64\n",
            "노면상태의 범주별 개수의 총합: 5408\n",
            "\n",
            "기상상태의 각 범주별 개수:\n",
            "기상상태\n",
            "2.0    4787\n",
            "3.0     322\n",
            "4.0     199\n",
            "0.0      83\n",
            "1.0      17\n",
            "Name: count, dtype: int64\n",
            "기상상태의 범주별 개수의 총합: 5408\n",
            "\n",
            "도로형태의 각 범주별 개수:\n",
            "도로형태\n",
            "3.0    2721\n",
            "1.0    2125\n",
            "2.0     523\n",
            "4.0      28\n",
            "0.0      11\n",
            "Name: count, dtype: int64\n",
            "도로형태의 범주별 개수의 총합: 5408\n",
            "\n",
            "도로형태상세의 각 범주별 개수:\n",
            "도로형태상세\n",
            "6.0    3208\n",
            "4.0     892\n",
            "5.0     629\n",
            "3.0     604\n",
            "7.0      28\n",
            "8.0      13\n",
            "0.0      11\n",
            "2.0      11\n",
            "9.0       9\n",
            "1.0       3\n",
            "Name: count, dtype: int64\n",
            "도로형태상세의 범주별 개수의 총합: 5408\n",
            "\n",
            "가해운전자 차종의 각 범주별 개수:\n",
            "가해운전자 차종\n",
            "4.0     2935\n",
            "10.0     811\n",
            "5.0      560\n",
            "7.0      437\n",
            "8.0      341\n",
            "2.0      111\n",
            "0.0       87\n",
            "6.0       61\n",
            "1.0       54\n",
            "9.0       10\n",
            "3.0        1\n",
            "Name: count, dtype: int64\n",
            "가해운전자 차종의 범주별 개수의 총합: 5408\n",
            "\n",
            "피해운전자 성별의 각 범주별 개수:\n",
            "피해운전자 성별\n",
            "1.0    3324\n",
            "0.0    2084\n",
            "Name: count, dtype: int64\n",
            "피해운전자 성별의 범주별 개수의 총합: 5408\n",
            "\n",
            "피해운전자 연령_cat의 각 범주별 개수:\n",
            "피해운전자 연령_cat\n",
            "0.0    1936\n",
            "1.0    1337\n",
            "2.0    1095\n",
            "3.0    1040\n",
            "Name: count, dtype: int64\n",
            "피해운전자 연령_cat의 범주별 개수의 총합: 5408\n",
            "\n",
            "구_동의 각 범주별 개수:\n",
            "구_동\n",
            "강서구 화곡동      133\n",
            "관악구 신림동      120\n",
            "중랑구 면목동      110\n",
            "강북구 미아동      106\n",
            "동대문구 제기동      99\n",
            "            ... \n",
            "용산구 신계동        1\n",
            "용산구 원효로3가      1\n",
            "종로구 청운동        1\n",
            "서초구 염곡동        1\n",
            "중구 삼각동         1\n",
            "Name: count, Length: 373, dtype: int64\n",
            "구_동의 범주별 개수의 총합: 5408\n"
          ]
        }
      ]
    },
    {
      "cell_type": "code",
      "source": [
        "# 정규화가 필요한 숫자형 변수 목록\n",
        "numeric_columns = [\n",
        "    '사망자수', '중상자수', '경상자수', '부상신고자수', '사상자수', '피해운전자 연령',\n",
        "    '상태_양호', '상태_파손', '상태_도색', '상태_노후', '종류_1', '종류_2', '종류_3',\n",
        "    '종류_4', '공사_1', '공사_2', '공사_3', '공사_4', '공사_5', '공사_6', '공사_8',\n",
        "    '공사_9', '공사_10', '횡단보도_개수', '교통사고_건수'\n",
        "]\n",
        "\n",
        "# Min-Max Scaler 생성\n",
        "scaler = MinMaxScaler()\n",
        "\n",
        "# 기존 데이터를 유지하고, 정규화된 데이터를 새로운 scaled 열에 저장\n",
        "for col in numeric_columns:\n",
        "    merged_data_cleaned[f'{col}_scaled'] = scaler.fit_transform(merged_data_cleaned[[col]])\n",
        "\n",
        "# 결과 확인\n",
        "print(\"정규화된 데이터가 새로운 '_scaled' 열로 추가되었습니다.\")\n",
        "print(merged_data_cleaned[[f'{col}_scaled' for col in numeric_columns]].head())\n"
      ],
      "metadata": {
        "colab": {
          "base_uri": "https://localhost:8080/"
        },
        "id": "ElXh3EoPSC8W",
        "outputId": "f644ca2f-dadd-4416-8807-8d298c3dae22"
      },
      "execution_count": 67,
      "outputs": [
        {
          "output_type": "stream",
          "name": "stdout",
          "text": [
            "정규화된 데이터가 새로운 '_scaled' 열로 추가되었습니다.\n",
            "   사망자수_scaled  중상자수_scaled  경상자수_scaled  부상신고자수_scaled  사상자수_scaled  \\\n",
            "0          0.0          0.2          0.0            0.0          0.0   \n",
            "1          0.0          0.2          0.0            0.0          0.0   \n",
            "2          0.0          0.0          0.2            0.0          0.0   \n",
            "3          0.0          0.2          0.0            0.0          0.0   \n",
            "4          0.0          0.0          0.2            0.0          0.0   \n",
            "\n",
            "   피해운전자 연령_scaled  상태_양호_scaled  상태_파손_scaled  상태_도색_scaled  상태_노후_scaled  \\\n",
            "0           1.0000      0.312435           0.0           0.0      0.172414   \n",
            "1           0.9375      0.312435           0.0           0.0      0.172414   \n",
            "2           0.4375      0.312435           0.0           0.0      0.172414   \n",
            "3           0.2500      0.312435           0.0           0.0      0.172414   \n",
            "4           0.5000      0.312435           0.0           0.0      0.172414   \n",
            "\n",
            "   ...  공사_2_scaled  공사_3_scaled  공사_4_scaled  공사_5_scaled  공사_6_scaled  \\\n",
            "0  ...          0.0     0.081967     0.196544      0.26393          0.0   \n",
            "1  ...          0.0     0.081967     0.196544      0.26393          0.0   \n",
            "2  ...          0.0     0.081967     0.196544      0.26393          0.0   \n",
            "3  ...          0.0     0.081967     0.196544      0.26393          0.0   \n",
            "4  ...          0.0     0.081967     0.196544      0.26393          0.0   \n",
            "\n",
            "   공사_8_scaled  공사_9_scaled  공사_10_scaled  횡단보도_개수_scaled  교통사고_건수_scaled  \n",
            "0          0.0          0.0      0.224299        0.312596        0.259259  \n",
            "1          0.0          0.0      0.224299        0.312596        0.259259  \n",
            "2          0.0          0.0      0.224299        0.312596        0.259259  \n",
            "3          0.0          0.0      0.224299        0.312596        0.259259  \n",
            "4          0.0          0.0      0.224299        0.312596        0.259259  \n",
            "\n",
            "[5 rows x 25 columns]\n"
          ]
        }
      ]
    },
    {
      "cell_type": "code",
      "source": [
        "# scaled가 완료된 데이터셋을 CSV 파일로 저장\n",
        "merged_data_cleaned.to_csv('/content/drive/MyDrive/seoul_data/merged_data_cleaned_scaled.csv', index=False)\n",
        "\n",
        "print(\"데이터셋이 성공적으로 저장되었습니다.\")"
      ],
      "metadata": {
        "colab": {
          "base_uri": "https://localhost:8080/"
        },
        "id": "zNUcX68sVFQV",
        "outputId": "be6c53f1-2118-4bc4-b34b-72e7cea5209d"
      },
      "execution_count": 68,
      "outputs": [
        {
          "output_type": "stream",
          "name": "stdout",
          "text": [
            "데이터셋이 성공적으로 저장되었습니다.\n"
          ]
        }
      ]
    },
    {
      "cell_type": "markdown",
      "source": [
        "➡️ 자!! 여기까지 전처리 및 스케일링이 마무리된 상태입니다! na 값 다 처리하였고 스케일도 맞췄습니다! 이제는 데이터셋 특징을 파악해볼거에요!! 🤔"
      ],
      "metadata": {
        "id": "LBGELTFVU7DY"
      }
    },
    {
      "cell_type": "markdown",
      "source": [
        "## 4. 탐색적 데이터 분석\n",
        "- 기초 통계 분석\n",
        "- 범주형 변수에 대한 상관관계 분석 (카이제곱 검정)\n",
        "- 숫자형 변수에 대한 상관관계 분석"
      ],
      "metadata": {
        "id": "2iVMOZbubn3J"
      }
    },
    {
      "cell_type": "markdown",
      "source": [
        "### 4-1. 통계요약"
      ],
      "metadata": {
        "id": "QjbRkfJRVMQk"
      }
    },
    {
      "cell_type": "code",
      "source": [
        "# 수치형 데이터의 통계 요약\n",
        "print(\"수치형 변수에 대한 통계 요약:\")\n",
        "print(merged_data_cleaned.describe())\n",
        "\n",
        "# 범주형 데이터의 통계 요약\n",
        "print(\"범주형 변수에 대한 통계 요약:\")\n",
        "print(merged_data_cleaned.describe(include=['object', 'category']))\n",
        "## 지금 이거 약간 변경 필요함."
      ],
      "metadata": {
        "id": "YRWE-7qLVkBJ"
      },
      "execution_count": null,
      "outputs": []
    },
    {
      "cell_type": "markdown",
      "source": [
        "### 4-2. 결측치 확인"
      ],
      "metadata": {
        "id": "B_XcxUbpVUTJ"
      }
    },
    {
      "cell_type": "code",
      "source": [
        "# 각 열의 결측치 개수 확인\n",
        "na_counts = merged_data_cleaned.isna().sum()\n",
        "\n",
        "print(\"각 열의 결측치 개수:\")\n",
        "print(na_counts)"
      ],
      "metadata": {
        "colab": {
          "base_uri": "https://localhost:8080/"
        },
        "id": "JDsZFEXoVY67",
        "outputId": "7b014688-b8e9-4152-adcd-e4e289eda087"
      },
      "execution_count": 70,
      "outputs": [
        {
          "output_type": "stream",
          "name": "stdout",
          "text": [
            "각 열의 결측치 개수:\n",
            "사고번호              0\n",
            "구_동               0\n",
            "년도                0\n",
            "월                 0\n",
            "일                 0\n",
            "                 ..\n",
            "공사_8_scaled       0\n",
            "공사_9_scaled       0\n",
            "공사_10_scaled      0\n",
            "횡단보도_개수_scaled    0\n",
            "교통사고_건수_scaled    0\n",
            "Length: 66, dtype: int64\n"
          ]
        }
      ]
    }
  ]
}